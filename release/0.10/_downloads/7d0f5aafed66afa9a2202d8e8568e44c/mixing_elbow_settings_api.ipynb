{
  "cells": [
    {
      "cell_type": "code",
      "execution_count": null,
      "metadata": {
        "collapsed": false
      },
      "outputs": [],
      "source": [
        "%matplotlib inline"
      ]
    },
    {
      "cell_type": "markdown",
      "metadata": {},
      "source": [
        "\n# Fluent Setup and Solution using Settings Objects\nThis example illustrates the setup and solution of a three-dimensional\nturbulent fluid flow and heat transfer problem in a mixing elbow. The mixing\nelbow configuration is encountered in piping systems in power plants and\nprocess industries. It is often important to predict the flow field and\ntemperature field in the area of the mixing region in order to properly design\nthe junction.\n\nThis example demonstrates use of 'settings' modules (Beta)\n\n- Launch Ansys Fluent\n- Import Mesh\n- Define Material\n- Setup Cell Zone Conditions\n- Setup Boundary Conditions\n- Initialize and Solve\n- Compute Mass Flow Rate and Temperature\n\nProblem Description:\nA cold fluid at 20 deg C flows into the pipe through a large inlet, and mixes\nwith a warmer fluid at 40 deg C that enters through a smaller inlet located at\nthe elbow. The pipe dimensions are in inches and the fluid properties and\nboundary conditions are given in SI units. The Reynolds number for the flow at\nthe larger inlet is 50, 800, so a turbulent flow model will be required.\n"
      ]
    },
    {
      "cell_type": "code",
      "execution_count": null,
      "metadata": {
        "collapsed": false
      },
      "outputs": [],
      "source": [
        "# sphinx_gallery_thumbnail_path = '_static/mixing_elbow_settings.png'"
      ]
    },
    {
      "cell_type": "markdown",
      "metadata": {},
      "source": [
        "First, download the mesh file and start Fluent as a service with\nSolver Mode, Double Precision, Number of Processors 2\n\n"
      ]
    },
    {
      "cell_type": "code",
      "execution_count": null,
      "metadata": {
        "collapsed": false
      },
      "outputs": [],
      "source": [
        "import ansys.fluent.core as pyfluent\nfrom ansys.fluent.core import examples\n\nimport_filename = examples.download_file(\"mixing_elbow.msh.h5\", \"pyfluent/mixing_elbow\")\n\nsession = pyfluent.launch_fluent(precision=\"double\", processor_count=2)"
      ]
    },
    {
      "cell_type": "markdown",
      "metadata": {},
      "source": [
        "Import mesh and perform mesh check:\nThe mesh check will list the minimum and maximum x, y, and z values from the\nmesh in the default SI unit of meters. It will also report a number of other\nmesh features that are checked. Any errors in the mesh will be reported at\nthis time. Ensure that the minimum volume is not negative, since Ansys Fluent\ncannot begin a calculation when this is the case.\n\n"
      ]
    },
    {
      "cell_type": "code",
      "execution_count": null,
      "metadata": {
        "collapsed": false
      },
      "outputs": [],
      "source": [
        "session.solver.root.file.read(file_type=\"case\", file_name=import_filename)\nsession.solver.tui.mesh.check()"
      ]
    },
    {
      "cell_type": "markdown",
      "metadata": {},
      "source": [
        "Set the working units for the mesh:\nselect \"in\" to set inches as the working unit for length. Note:  Because the\ndefault SI units will be used for everything except length, there is no need\nto change any other units in this problem. If you want a different working\nunit for length, other than inches (for example, millimeters), make the\nappropriate change.\n\n"
      ]
    },
    {
      "cell_type": "code",
      "execution_count": null,
      "metadata": {
        "collapsed": false
      },
      "outputs": [],
      "source": [
        "session.solver.tui.define.units(\"length\", \"in\")"
      ]
    },
    {
      "cell_type": "markdown",
      "metadata": {},
      "source": [
        "Enable heat transfer by activating the energy equation.\n\n"
      ]
    },
    {
      "cell_type": "code",
      "execution_count": null,
      "metadata": {
        "collapsed": false
      },
      "outputs": [],
      "source": [
        "session.solver.root.setup.models.energy.enabled = True"
      ]
    },
    {
      "cell_type": "markdown",
      "metadata": {},
      "source": [
        "Create a new material called water-liquid.\n\n"
      ]
    },
    {
      "cell_type": "code",
      "execution_count": null,
      "metadata": {
        "collapsed": false
      },
      "outputs": [],
      "source": [
        "session.solver.root.setup.materials.copy_database_material_by_name(\n    type=\"fluid\", name=\"water-liquid\"\n)"
      ]
    },
    {
      "cell_type": "markdown",
      "metadata": {},
      "source": [
        "Set up the cell zone conditions for the fluid zone (elbow-fluid). Select\nwater-liquid from the Material list.\n\n"
      ]
    },
    {
      "cell_type": "code",
      "execution_count": null,
      "metadata": {
        "collapsed": false
      },
      "outputs": [],
      "source": [
        "session.solver.root.setup.cell_zone_conditions.fluid[\n    \"elbow-fluid\"\n].material = \"water-liquid\""
      ]
    },
    {
      "cell_type": "markdown",
      "metadata": {},
      "source": [
        "Set up the boundary conditions for the inlets, outlet, and walls for your CFD\nanalysis.\ncold inlet (cold-inlet), Setting: Value:\nVelocity Specification Method: Magnitude, Normal to Boundary\nVelocity Magnitude: 0.4 [m/s]\nSpecification Method: Intensity and Hydraulic Diameter\nTurbulent Intensity: 5 [%]\nHydraulic Diameter: 4 [inch]\nTemperature: 293.15 [K]\n\n"
      ]
    },
    {
      "cell_type": "code",
      "execution_count": null,
      "metadata": {
        "collapsed": false
      },
      "outputs": [],
      "source": [
        "session.solver.root.setup.boundary_conditions.velocity_inlet[\"cold-inlet\"].vmag = {\n    \"option\": \"constant or expression\",\n    \"constant\": 0.4,\n}\nsession.solver.root.setup.boundary_conditions.velocity_inlet[\n    \"cold-inlet\"\n].ke_spec = \"Intensity and Hydraulic Diameter\"\nsession.solver.root.setup.boundary_conditions.velocity_inlet[\n    \"cold-inlet\"\n].turb_intensity = 5\nsession.solver.root.setup.boundary_conditions.velocity_inlet[\n    \"cold-inlet\"\n].turb_hydraulic_diam = \"4 [in]\"\nsession.solver.root.setup.boundary_conditions.velocity_inlet[\"cold-inlet\"].t = {\n    \"option\": \"constant or expression\",\n    \"constant\": 293.15,\n}"
      ]
    },
    {
      "cell_type": "markdown",
      "metadata": {},
      "source": [
        "hot inlet (hot-inlet), Setting: Value:\nVelocity Specification Method: Magnitude, Normal to Boundary\nVelocity Magnitude: 1.2 [m/s]\nSpecification Method: Intensity and Hydraulic Diameter\nTurbulent Intensity: 5 [%]\nHydraulic Diameter: 1 [inch]\nTemperature: 313.15 [K]\n\n"
      ]
    },
    {
      "cell_type": "code",
      "execution_count": null,
      "metadata": {
        "collapsed": false
      },
      "outputs": [],
      "source": [
        "session.solver.root.setup.boundary_conditions.velocity_inlet[\"hot-inlet\"].vmag = {\n    \"option\": \"constant or expression\",\n    \"constant\": 1.2,\n}\nsession.solver.root.setup.boundary_conditions.velocity_inlet[\n    \"hot-inlet\"\n].ke_spec = \"Intensity and Hydraulic Diameter\"\nsession.solver.root.setup.boundary_conditions.velocity_inlet[\n    \"hot-inlet\"\n].turb_hydraulic_diam = \"1 [in]\"\nsession.solver.root.setup.boundary_conditions.velocity_inlet[\"hot-inlet\"].t = {\n    \"option\": \"constant or expression\",\n    \"constant\": 313.15,\n}"
      ]
    },
    {
      "cell_type": "markdown",
      "metadata": {},
      "source": [
        "pressure outlet (outlet), Setting: Value:\nBackflow Turbulent Intensity: 5 [%]\nBackflow Turbulent Viscosity Ratio: 4\n\n"
      ]
    },
    {
      "cell_type": "code",
      "execution_count": null,
      "metadata": {
        "collapsed": false
      },
      "outputs": [],
      "source": [
        "session.solver.root.setup.boundary_conditions.pressure_outlet[\n    \"outlet\"\n].turb_viscosity_ratio = 4"
      ]
    },
    {
      "cell_type": "markdown",
      "metadata": {},
      "source": [
        "Disable the plotting of residuals during the calculation.\n\n"
      ]
    },
    {
      "cell_type": "code",
      "execution_count": null,
      "metadata": {
        "collapsed": false
      },
      "outputs": [],
      "source": [
        "session.solver.tui.solve.monitors.residual.plot(\"no\")"
      ]
    },
    {
      "cell_type": "markdown",
      "metadata": {},
      "source": [
        "Initialize the flow field using the Hybrid Initialization\n\n"
      ]
    },
    {
      "cell_type": "code",
      "execution_count": null,
      "metadata": {
        "collapsed": false
      },
      "outputs": [],
      "source": [
        "session.solver.root.solution.initialization.hybrid_initialize()"
      ]
    },
    {
      "cell_type": "markdown",
      "metadata": {},
      "source": [
        "Solve for 150 Iterations.\n\n"
      ]
    },
    {
      "cell_type": "code",
      "execution_count": null,
      "metadata": {
        "collapsed": false
      },
      "outputs": [],
      "source": [
        "session.solver.root.solution.run_calculation.iterate.get_attr(\"arguments\")\nsession.solver.root.solution.run_calculation.iterate(number_of_iterations=150)"
      ]
    },
    {
      "cell_type": "markdown",
      "metadata": {},
      "source": [
        "Create and display velocity vectors on the symmetry-xyplane plane.\n\n"
      ]
    },
    {
      "cell_type": "code",
      "execution_count": null,
      "metadata": {
        "collapsed": false
      },
      "outputs": [],
      "source": [
        "session.solver.root.results.graphics.vector[\"velocity_vector_symmetry\"] = {}\nsession.solver.root.results.graphics.vector[\"velocity_vector_symmetry\"].print_state()\nsession.solver.root.results.graphics.vector[\n    \"velocity_vector_symmetry\"\n].field = \"temperature\"\nsession.solver.root.results.graphics.vector[\n    \"velocity_vector_symmetry\"\n].surfaces_list = [\n    \"symmetry-xyplane\",\n]\nsession.solver.root.results.graphics.vector[\n    \"velocity_vector_symmetry\"\n].scale.scale_f = 4\nsession.solver.root.results.graphics.vector[\"velocity_vector_symmetry\"].style = \"arrow\""
      ]
    },
    {
      "cell_type": "markdown",
      "metadata": {},
      "source": [
        "Compute mass flow rate\n\n"
      ]
    },
    {
      "cell_type": "code",
      "execution_count": null,
      "metadata": {
        "collapsed": false
      },
      "outputs": [],
      "source": [
        "session.solver.root.solution.report_definitions.flux[\"mass_flow_rate\"] = {}\nsession.solver.root.solution.report_definitions.flux[\n    \"mass_flow_rate\"\n].zone_names.get_attr(\"allowed-values\")\nsession.solver.root.solution.report_definitions.flux[\"mass_flow_rate\"].zone_names = [\n    \"cold-inlet\",\n    \"hot-inlet\",\n    \"outlet\",\n]\nsession.solver.root.solution.report_definitions.flux[\"mass_flow_rate\"].print_state()\nsession.solver.root.solution.report_definitions.compute(report_defs=[\"mass_flow_rate\"])"
      ]
    },
    {
      "cell_type": "markdown",
      "metadata": {},
      "source": [
        "Close Fluent\n\n"
      ]
    },
    {
      "cell_type": "code",
      "execution_count": null,
      "metadata": {
        "collapsed": false
      },
      "outputs": [],
      "source": [
        "session.exit()"
      ]
    }
  ],
  "metadata": {
    "kernelspec": {
      "display_name": "Python 3",
      "language": "python",
      "name": "python3"
    },
    "language_info": {
      "codemirror_mode": {
        "name": "ipython",
        "version": 3
      },
      "file_extension": ".py",
      "mimetype": "text/x-python",
      "name": "python",
      "nbconvert_exporter": "python",
      "pygments_lexer": "ipython3",
      "version": "3.9.16"
    }
  },
  "nbformat": 4,
  "nbformat_minor": 0
}