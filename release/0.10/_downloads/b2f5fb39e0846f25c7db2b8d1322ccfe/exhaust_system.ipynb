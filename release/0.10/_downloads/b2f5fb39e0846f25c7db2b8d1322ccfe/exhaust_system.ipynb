{
  "cells": [
    {
      "cell_type": "code",
      "execution_count": null,
      "metadata": {
        "collapsed": false
      },
      "outputs": [],
      "source": [
        "%matplotlib inline"
      ]
    },
    {
      "cell_type": "markdown",
      "metadata": {},
      "source": [
        "\n# End-to-end Fault-tolerant Meshing Workflow\nThis tutorial illustrates the setup and solution of a three-dimensional\nturbulent fluid flow in a manifold exhaust system. The manifold configuration\nis encountered in the automotive industry. It is often important to predict\nthe flow field in the area of the mixing region in order to properly design\nthe junction. You will use the Fault-tolerant Meshing guided workflow, which\nunlike the watertight workflow used in Fluid Flow in a Mixing Elbow, is\nappropriate for geometries with imperfections, such as gaps and leakages.\n\nEnd-to-end Fault Tolerant Meshing Workflow example\n\n- Use the Fault-tolerant Meshing guided workflow to:\n    - Import a CAD geometry and manage individual parts\n    - Generate a surface mesh\n    - Cap inlets and outlets\n    - Extract a fluid region\n    - Define leakages\n    - Extract edge features\n    - Setup size controls\n    - Generate a volume mesh\n- Set up appropriate physics and boundary conditions.\n- Calculate a solution.\n- Review the results of the simulation.\n\nProblem Description:\n\nAir flows through the three inlets with a uniform velocity of 1 m/s, and then\nexits through the outlet. A small pipe is placed in the main portion of the\nmanifold where edge extraction will be considered. There is also a known small\nleakage included that will be addressed in the meshing portion of the tutorial\nto demonstrate the automatic leakage detection aspects of the meshing workflow.\n"
      ]
    },
    {
      "cell_type": "code",
      "execution_count": null,
      "metadata": {
        "collapsed": false
      },
      "outputs": [],
      "source": [
        "# sphinx_gallery_thumbnail_path = '_static/exhaust_system.png'"
      ]
    },
    {
      "cell_type": "markdown",
      "metadata": {},
      "source": [
        "First, download the geometry file and start Fluent as a service with\nMeshing Mode, Double Precision, Number of Processors 2\n\n"
      ]
    },
    {
      "cell_type": "code",
      "execution_count": null,
      "metadata": {
        "collapsed": false
      },
      "outputs": [],
      "source": [
        "import ansys.fluent.core as pyfluent\nfrom ansys.fluent.core import examples\n\nimport_filename = examples.download_file(\n    \"exhaust_system.fmd\", \"pyfluent/exhaust_system\"\n)"
      ]
    },
    {
      "cell_type": "markdown",
      "metadata": {},
      "source": [
        "Start Fluent in double precision running on 2 processors\n\n"
      ]
    },
    {
      "cell_type": "code",
      "execution_count": null,
      "metadata": {
        "collapsed": false
      },
      "outputs": [],
      "source": [
        "session = pyfluent.launch_fluent(\n    meshing_mode=True, precision=\"double\", processor_count=2\n)"
      ]
    },
    {
      "cell_type": "markdown",
      "metadata": {},
      "source": [
        "Select the Fault Tolerant Meshing Workflow\n\n"
      ]
    },
    {
      "cell_type": "code",
      "execution_count": null,
      "metadata": {
        "collapsed": false
      },
      "outputs": [],
      "source": [
        "session.meshing.workflow.InitializeWorkflow(WorkflowType=\"Fault-tolerant Meshing\")"
      ]
    },
    {
      "cell_type": "markdown",
      "metadata": {},
      "source": [
        "Import the CAD geometry (exhaust_system.fmd). Perform some selective part\nmanagement.\n\n"
      ]
    },
    {
      "cell_type": "code",
      "execution_count": null,
      "metadata": {
        "collapsed": false
      },
      "outputs": [],
      "source": [
        "session.meshing.PartManagement.InputFileChanged(\n    FilePath=import_filename, IgnoreSolidNames=False, PartPerBody=False\n)\nsession.meshing.PMFileManagement.FileManager.LoadFiles()\nsession.meshing.PartManagement.Node[\"Meshing Model\"].Copy(\n    Paths=[\n        \"/dirty_manifold-for-wrapper,\" + \"1/dirty_manifold-for-wrapper,1/main,1\",\n        \"/dirty_manifold-for-wrapper,\" + \"1/dirty_manifold-for-wrapper,1/flow-pipe,1\",\n        \"/dirty_manifold-for-wrapper,\" + \"1/dirty_manifold-for-wrapper,1/outpipe3,1\",\n        \"/dirty_manifold-for-wrapper,\" + \"1/dirty_manifold-for-wrapper,1/object2,1\",\n        \"/dirty_manifold-for-wrapper,\" + \"1/dirty_manifold-for-wrapper,1/object1,1\",\n    ]\n)\nsession.meshing.PartManagement.ObjectSetting[\n    \"DefaultObjectSetting\"\n].OneZonePer.setState(\"part\")\nsession.meshing.workflow.TaskObject[\n    \"Import CAD and Part Management\"\n].Arguments.setState(\n    {\n        \"Context\": 0,\n        \"CreateObjectPer\": \"Custom\",\n        \"FMDFileName\": import_filename,\n        \"FileLoaded\": \"yes\",\n        \"ObjectSetting\": \"DefaultObjectSetting\",\n        \"Options\": {\n            \"Line\": False,\n            \"Solid\": False,\n            \"Surface\": False,\n        },\n    }\n)\nsession.meshing.workflow.TaskObject[\"Import CAD and Part Management\"].Execute()"
      ]
    },
    {
      "cell_type": "markdown",
      "metadata": {},
      "source": [
        "Provide a description for the geometry and the flow characteristics.\n\n"
      ]
    },
    {
      "cell_type": "code",
      "execution_count": null,
      "metadata": {
        "collapsed": false
      },
      "outputs": [],
      "source": [
        "session.meshing.workflow.TaskObject[\"Describe Geometry and Flow\"].Arguments.setState(\n    {\n        \"AddEnclosure\": \"No\",\n        \"CloseCaps\": \"Yes\",\n        \"FlowType\": \"Internal flow through the object\",\n    }\n)\nsession.meshing.workflow.TaskObject[\"Describe Geometry and Flow\"].UpdateChildTasks(\n    SetupTypeChanged=False\n)\nsession.meshing.workflow.TaskObject[\"Describe Geometry and Flow\"].Arguments.setState(\n    {\n        \"AddEnclosure\": \"No\",\n        \"CloseCaps\": \"Yes\",\n        \"DescribeGeometryAndFlowOptions\": {\n            \"AdvancedOptions\": True,\n            \"ExtractEdgeFeatures\": \"Yes\",\n        },\n        \"FlowType\": \"Internal flow through the object\",\n    }\n)\nsession.meshing.workflow.TaskObject[\"Describe Geometry and Flow\"].UpdateChildTasks(\n    SetupTypeChanged=False\n)\nsession.meshing.workflow.TaskObject[\"Describe Geometry and Flow\"].Execute()"
      ]
    },
    {
      "cell_type": "markdown",
      "metadata": {},
      "source": [
        "Cover any openings in your geometry.\n\n"
      ]
    },
    {
      "cell_type": "code",
      "execution_count": null,
      "metadata": {
        "collapsed": false
      },
      "outputs": [],
      "source": [
        "session.meshing.workflow.TaskObject[\n    \"Enclose Fluid Regions (Capping)\"\n].Arguments.setState(\n    {\n        \"CreatePatchPreferences\": {\n            \"ShowCreatePatchPreferences\": False,\n        },\n        \"PatchName\": \"inlet-1\",\n        \"SelectionType\": \"zone\",\n        \"ZoneSelectionList\": [\"inlet.1\"],\n    }\n)\nsession.meshing.workflow.TaskObject[\n    \"Enclose Fluid Regions (Capping)\"\n].Arguments.setState(\n    {\n        \"CreatePatchPreferences\": {\n            \"ShowCreatePatchPreferences\": False,\n        },\n        \"PatchName\": \"inlet-1\",\n        \"SelectionType\": \"zone\",\n        \"ZoneLocation\": [\n            \"1\",\n            \"351.68205\",\n            \"-361.34322\",\n            \"-301.88668\",\n            \"396.96205\",\n            \"-332.84759\",\n            \"-266.69751\",\n            \"inlet.1\",\n        ],\n        \"ZoneSelectionList\": [\"inlet.1\"],\n    }\n)\nsession.meshing.workflow.TaskObject[\"Enclose Fluid Regions (Capping)\"].AddChildToTask()\n\nsession.meshing.workflow.TaskObject[\n    \"Enclose Fluid Regions (Capping)\"\n].InsertCompoundChildTask()\nsession.meshing.workflow.TaskObject[\n    \"Enclose Fluid Regions (Capping)\"\n].Arguments.setState({})\nsession.meshing.workflow.TaskObject[\"inlet-1\"].Execute()\nsession.meshing.workflow.TaskObject[\n    \"Enclose Fluid Regions (Capping)\"\n].Arguments.setState(\n    {\n        \"PatchName\": \"inlet-2\",\n        \"SelectionType\": \"zone\",\n        \"ZoneSelectionList\": [\"inlet.2\"],\n    }\n)\nsession.meshing.workflow.TaskObject[\n    \"Enclose Fluid Regions (Capping)\"\n].Arguments.setState(\n    {\n        \"PatchName\": \"inlet-2\",\n        \"SelectionType\": \"zone\",\n        \"ZoneLocation\": [\n            \"1\",\n            \"441.68205\",\n            \"-361.34322\",\n            \"-301.88668\",\n            \"486.96205\",\n            \"-332.84759\",\n            \"-266.69751\",\n            \"inlet.2\",\n        ],\n        \"ZoneSelectionList\": [\"inlet.2\"],\n    }\n)\nsession.meshing.workflow.TaskObject[\"Enclose Fluid Regions (Capping)\"].AddChildToTask()\n\nsession.meshing.workflow.TaskObject[\n    \"Enclose Fluid Regions (Capping)\"\n].InsertCompoundChildTask()\nsession.meshing.workflow.TaskObject[\n    \"Enclose Fluid Regions (Capping)\"\n].Arguments.setState({})\nsession.meshing.workflow.TaskObject[\"inlet-2\"].Execute()\nsession.meshing.workflow.TaskObject[\n    \"Enclose Fluid Regions (Capping)\"\n].Arguments.setState(\n    {\n        \"PatchName\": \"inlet-3\",\n        \"SelectionType\": \"zone\",\n        \"ZoneSelectionList\": [\"inlet\"],\n    }\n)\nsession.meshing.workflow.TaskObject[\n    \"Enclose Fluid Regions (Capping)\"\n].Arguments.setState(\n    {\n        \"PatchName\": \"inlet-3\",\n        \"SelectionType\": \"zone\",\n        \"ZoneLocation\": [\n            \"1\",\n            \"261.68205\",\n            \"-361.34322\",\n            \"-301.88668\",\n            \"306.96205\",\n            \"-332.84759\",\n            \"-266.69751\",\n            \"inlet\",\n        ],\n        \"ZoneSelectionList\": [\"inlet\"],\n    }\n)\nsession.meshing.workflow.TaskObject[\"Enclose Fluid Regions (Capping)\"].AddChildToTask()\n\nsession.meshing.workflow.TaskObject[\n    \"Enclose Fluid Regions (Capping)\"\n].InsertCompoundChildTask()\nsession.meshing.workflow.TaskObject[\n    \"Enclose Fluid Regions (Capping)\"\n].Arguments.setState({})\nsession.meshing.workflow.TaskObject[\"inlet-3\"].Execute()\nsession.meshing.workflow.TaskObject[\n    \"Enclose Fluid Regions (Capping)\"\n].Arguments.setState(\n    {\n        \"PatchName\": \"outlet-1\",\n        \"SelectionType\": \"zone\",\n        \"ZoneSelectionList\": [\"outlet\"],\n        \"ZoneType\": \"pressure-outlet\",\n    }\n)\nsession.meshing.workflow.TaskObject[\n    \"Enclose Fluid Regions (Capping)\"\n].Arguments.setState(\n    {\n        \"PatchName\": \"outlet-1\",\n        \"SelectionType\": \"zone\",\n        \"ZoneLocation\": [\n            \"1\",\n            \"352.22702\",\n            \"-197.8957\",\n            \"84.102381\",\n            \"394.41707\",\n            \"-155.70565\",\n            \"84.102381\",\n            \"outlet\",\n        ],\n        \"ZoneSelectionList\": [\"outlet\"],\n        \"ZoneType\": \"pressure-outlet\",\n    }\n)\nsession.meshing.workflow.TaskObject[\"Enclose Fluid Regions (Capping)\"].AddChildToTask()\n\nsession.meshing.workflow.TaskObject[\n    \"Enclose Fluid Regions (Capping)\"\n].InsertCompoundChildTask()\nsession.meshing.workflow.TaskObject[\n    \"Enclose Fluid Regions (Capping)\"\n].Arguments.setState({})\nsession.meshing.workflow.TaskObject[\"outlet-1\"].Execute()"
      ]
    },
    {
      "cell_type": "markdown",
      "metadata": {},
      "source": [
        "Extract edge features.\n\n"
      ]
    },
    {
      "cell_type": "code",
      "execution_count": null,
      "metadata": {
        "collapsed": false
      },
      "outputs": [],
      "source": [
        "session.meshing.workflow.TaskObject[\"Extract Edge Features\"].Arguments.setState(\n    {\n        \"ExtractMethodType\": \"Intersection Loops\",\n        \"ObjectSelectionList\": [\"flow_pipe\", \"main\"],\n    }\n)\nsession.meshing.workflow.TaskObject[\"Extract Edge Features\"].AddChildToTask()\n\nsession.meshing.workflow.TaskObject[\"Extract Edge Features\"].InsertCompoundChildTask()\n\nsession.meshing.workflow.TaskObject[\"edge-group-1\"].Arguments.setState(\n    {\n        \"ExtractEdgesName\": \"edge-group-1\",\n        \"ExtractMethodType\": \"Intersection Loops\",\n        \"ObjectSelectionList\": [\"flow_pipe\", \"main\"],\n    }\n)\nsession.meshing.workflow.TaskObject[\"Extract Edge Features\"].Arguments.setState({})\n\nsession.meshing.workflow.TaskObject[\"edge-group-1\"].Execute()"
      ]
    },
    {
      "cell_type": "markdown",
      "metadata": {},
      "source": [
        "Identify regions.\n\n"
      ]
    },
    {
      "cell_type": "code",
      "execution_count": null,
      "metadata": {
        "collapsed": false
      },
      "outputs": [],
      "source": [
        "session.meshing.workflow.TaskObject[\"Identify Regions\"].Arguments.setState(\n    {\n        \"SelectionType\": \"zone\",\n        \"X\": 377.322045740589,\n        \"Y\": -176.800676988458,\n        \"Z\": -37.0764628583475,\n        \"ZoneSelectionList\": [\"main.1\"],\n    }\n)\nsession.meshing.workflow.TaskObject[\"Identify Regions\"].Arguments.setState(\n    {\n        \"SelectionType\": \"zone\",\n        \"X\": 377.322045740589,\n        \"Y\": -176.800676988458,\n        \"Z\": -37.0764628583475,\n        \"ZoneLocation\": [\n            \"1\",\n            \"213.32205\",\n            \"-225.28068\",\n            \"-158.25531\",\n            \"541.32205\",\n            \"-128.32068\",\n            \"84.102381\",\n            \"main.1\",\n        ],\n        \"ZoneSelectionList\": [\"main.1\"],\n    }\n)\nsession.meshing.workflow.TaskObject[\"Identify Regions\"].AddChildToTask()\n\nsession.meshing.workflow.TaskObject[\"Identify Regions\"].InsertCompoundChildTask()\n\nsession.meshing.workflow.TaskObject[\"fluid-region-1\"].Arguments.setState(\n    {\n        \"MaterialPointsName\": \"fluid-region-1\",\n        \"SelectionType\": \"zone\",\n        \"X\": 377.322045740589,\n        \"Y\": -176.800676988458,\n        \"Z\": -37.0764628583475,\n        \"ZoneLocation\": [\n            \"1\",\n            \"213.32205\",\n            \"-225.28068\",\n            \"-158.25531\",\n            \"541.32205\",\n            \"-128.32068\",\n            \"84.102381\",\n            \"main.1\",\n        ],\n        \"ZoneSelectionList\": [\"main.1\"],\n    }\n)\nsession.meshing.workflow.TaskObject[\"Identify Regions\"].Arguments.setState({})\n\nsession.meshing.workflow.TaskObject[\"fluid-region-1\"].Execute()\nsession.meshing.workflow.TaskObject[\"Identify Regions\"].Arguments.setState(\n    {\n        \"MaterialPointsName\": \"void-region-1\",\n        \"NewRegionType\": \"void\",\n        \"ObjectSelectionList\": [\"inlet-1\", \"inlet-2\", \"inlet-3\", \"main\"],\n        \"X\": 374.722045740589,\n        \"Y\": -278.9775145640143,\n        \"Z\": -161.1700719416913,\n    }\n)\nsession.meshing.workflow.TaskObject[\"Identify Regions\"].AddChildToTask()\n\nsession.meshing.workflow.TaskObject[\"Identify Regions\"].InsertCompoundChildTask()\n\nsession.meshing.workflow.TaskObject[\"Identify Regions\"].Arguments.setState({})\n\nsession.meshing.workflow.TaskObject[\"void-region-1\"].Execute()"
      ]
    },
    {
      "cell_type": "markdown",
      "metadata": {},
      "source": [
        "Define thresholds for any potential leakages.\n\n"
      ]
    },
    {
      "cell_type": "code",
      "execution_count": null,
      "metadata": {
        "collapsed": false
      },
      "outputs": [],
      "source": [
        "session.meshing.workflow.TaskObject[\"Define Leakage Threshold\"].Arguments.setState(\n    {\n        \"AddChild\": \"yes\",\n        \"FlipDirection\": True,\n        \"PlaneDirection\": \"X\",\n        \"RegionSelectionSingle\": \"void-region-1\",\n    }\n)\nsession.meshing.workflow.TaskObject[\"Define Leakage Threshold\"].AddChildToTask()\n\nsession.meshing.workflow.TaskObject[\n    \"Define Leakage Threshold\"\n].InsertCompoundChildTask()\nsession.meshing.workflow.TaskObject[\"leakage-1\"].Arguments.setState(\n    {\n        \"AddChild\": \"yes\",\n        \"FlipDirection\": True,\n        \"LeakageName\": \"leakage-1\",\n        \"PlaneDirection\": \"X\",\n        \"RegionSelectionSingle\": \"void-region-1\",\n    }\n)\nsession.meshing.workflow.TaskObject[\"Define Leakage Threshold\"].Arguments.setState(\n    {\n        \"AddChild\": \"yes\",\n    }\n)\nsession.meshing.workflow.TaskObject[\"leakage-1\"].Execute()"
      ]
    },
    {
      "cell_type": "markdown",
      "metadata": {},
      "source": [
        "Review your region settings.\n\n"
      ]
    },
    {
      "cell_type": "code",
      "execution_count": null,
      "metadata": {
        "collapsed": false
      },
      "outputs": [],
      "source": [
        "session.meshing.workflow.TaskObject[\"Update Region Settings\"].Arguments.setState(\n    {\n        \"AllRegionFilterCategories\": [\"2\"] * 5 + [\"1\"] * 2,\n        \"AllRegionLeakageSizeList\": [\"none\"] * 6 + [\"6.4\"],\n        \"AllRegionLinkedConstructionSurfaceList\": [\"n/a\"] * 6 + [\"no\"],\n        \"AllRegionMeshMethodList\": [\"none\"] * 6 + [\"wrap\"],\n        \"AllRegionNameList\": [\n            \"main\",\n            \"flow_pipe\",\n            \"outpipe3\",\n            \"object2\",\n            \"object1\",\n            \"void-region-1\",\n            \"fluid-region-1\",\n        ],\n        \"AllRegionOversetComponenList\": [\"no\"] * 7,\n        \"AllRegionSourceList\": [\"object\"] * 5 + [\"mpt\"] * 2,\n        \"AllRegionTypeList\": [\"void\"] * 6 + [\"fluid\"],\n        \"AllRegionVolumeFillList\": [\"none\"] * 6 + [\"tet\"],\n        \"FilterCategory\": \"Identified Regions\",\n        \"OldRegionLeakageSizeList\": [\"\"],\n        \"OldRegionMeshMethodList\": [\"wrap\"],\n        \"OldRegionNameList\": [\"fluid-region-1\"],\n        \"OldRegionOversetComponenList\": [\"no\"],\n        \"OldRegionTypeList\": [\"fluid\"],\n        \"OldRegionVolumeFillList\": [\"hexcore\"],\n        \"RegionLeakageSizeList\": [\"\"],\n        \"RegionMeshMethodList\": [\"wrap\"],\n        \"RegionNameList\": [\"fluid-region-1\"],\n        \"RegionOversetComponenList\": [\"no\"],\n        \"RegionTypeList\": [\"fluid\"],\n        \"RegionVolumeFillList\": [\"tet\"],\n    }\n)\nsession.meshing.workflow.TaskObject[\"Update Region Settings\"].Execute()"
      ]
    },
    {
      "cell_type": "markdown",
      "metadata": {},
      "source": [
        "Select options for controlling the mesh.\n\n"
      ]
    },
    {
      "cell_type": "code",
      "execution_count": null,
      "metadata": {
        "collapsed": false
      },
      "outputs": [],
      "source": [
        "session.meshing.workflow.TaskObject[\"Choose Mesh Control Options\"].Execute()"
      ]
    },
    {
      "cell_type": "markdown",
      "metadata": {},
      "source": [
        "Generate the surface mesh.\n\n"
      ]
    },
    {
      "cell_type": "code",
      "execution_count": null,
      "metadata": {
        "collapsed": false
      },
      "outputs": [],
      "source": [
        "session.meshing.workflow.TaskObject[\"Generate the Surface Mesh\"].Execute()"
      ]
    },
    {
      "cell_type": "markdown",
      "metadata": {},
      "source": [
        "Confirm and update the boundaries.\n\n"
      ]
    },
    {
      "cell_type": "code",
      "execution_count": null,
      "metadata": {
        "collapsed": false
      },
      "outputs": [],
      "source": [
        "session.meshing.workflow.TaskObject[\"Update Boundaries\"].Execute()"
      ]
    },
    {
      "cell_type": "markdown",
      "metadata": {},
      "source": [
        "Add boundary layers.\n\n"
      ]
    },
    {
      "cell_type": "code",
      "execution_count": null,
      "metadata": {
        "collapsed": false
      },
      "outputs": [],
      "source": [
        "session.meshing.workflow.TaskObject[\"Add Boundary Layers\"].AddChildToTask()\n\nsession.meshing.workflow.TaskObject[\"Add Boundary Layers\"].InsertCompoundChildTask()\n\nsession.meshing.workflow.TaskObject[\"aspect-ratio_1\"].Arguments.setState(\n    {\n        \"BLControlName\": \"aspect-ratio_1\",\n    }\n)\nsession.meshing.workflow.TaskObject[\"Add Boundary Layers\"].Arguments.setState({})\n\nsession.meshing.workflow.TaskObject[\"aspect-ratio_1\"].Execute()"
      ]
    },
    {
      "cell_type": "markdown",
      "metadata": {},
      "source": [
        "Generate the volume mesh.\n\n"
      ]
    },
    {
      "cell_type": "code",
      "execution_count": null,
      "metadata": {
        "collapsed": false
      },
      "outputs": [],
      "source": [
        "session.meshing.workflow.TaskObject[\"Generate the Volume Mesh\"].Arguments.setState(\n    {\n        \"AllRegionNameList\": [\n            \"main\",\n            \"flow_pipe\",\n            \"outpipe3\",\n            \"object2\",\n            \"object1\",\n            \"void-region-1\",\n            \"fluid-region-1\",\n        ],\n        \"AllRegionSizeList\": [\"11.33375\"] * 7,\n        \"AllRegionVolumeFillList\": [\"none\"] * 6 + [\"tet\"],\n        \"EnableParallel\": True,\n    }\n)\nsession.meshing.workflow.TaskObject[\"Generate the Volume Mesh\"].Execute()"
      ]
    },
    {
      "cell_type": "markdown",
      "metadata": {},
      "source": [
        "Check the mesh.\n\n"
      ]
    },
    {
      "cell_type": "code",
      "execution_count": null,
      "metadata": {
        "collapsed": false
      },
      "outputs": [],
      "source": [
        "session.meshing.tui.mesh.check_mesh()"
      ]
    },
    {
      "cell_type": "markdown",
      "metadata": {},
      "source": [
        "Switch to Solution mode.\n\n"
      ]
    },
    {
      "cell_type": "code",
      "execution_count": null,
      "metadata": {
        "collapsed": false
      },
      "outputs": [],
      "source": [
        "session.meshing.tui.switch_to_solution_mode(\"yes\")\n\nsession.solver.tui.mesh.check()"
      ]
    },
    {
      "cell_type": "markdown",
      "metadata": {},
      "source": [
        "Set the units for length\n\n"
      ]
    },
    {
      "cell_type": "code",
      "execution_count": null,
      "metadata": {
        "collapsed": false
      },
      "outputs": [],
      "source": [
        "session.solver.tui.define.units(\"length\", \"mm\")"
      ]
    },
    {
      "cell_type": "markdown",
      "metadata": {},
      "source": [
        "Select kw sst turbulence model\n\n"
      ]
    },
    {
      "cell_type": "code",
      "execution_count": null,
      "metadata": {
        "collapsed": false
      },
      "outputs": [],
      "source": [
        "session.solver.tui.define.models.viscous.kw_sst(\"yes\")"
      ]
    },
    {
      "cell_type": "markdown",
      "metadata": {},
      "source": [
        "Set the velocity and turbulence boundary conditions for the first inlet\n(inlet-1).\n\n"
      ]
    },
    {
      "cell_type": "code",
      "execution_count": null,
      "metadata": {
        "collapsed": false
      },
      "outputs": [],
      "source": [
        "session.solver.tui.define.boundary_conditions.set.velocity_inlet(\n    \"inlet-1\", [], \"vmag\", \"no\", 1, \"quit\"\n)"
      ]
    },
    {
      "cell_type": "markdown",
      "metadata": {},
      "source": [
        "Apply the same conditions for the other velocity inlet boundaries (inlet_2,\nand inlet_3).\n\n"
      ]
    },
    {
      "cell_type": "code",
      "execution_count": null,
      "metadata": {
        "collapsed": false
      },
      "outputs": [],
      "source": [
        "session.solver.tui.define.boundary_conditions.copy_bc(\n    \"inlet-1\", \"inlet-2\", \"inlet-3\", ()\n)"
      ]
    },
    {
      "cell_type": "markdown",
      "metadata": {},
      "source": [
        "Set the boundary conditions at the outlet (outlet-1).\n\n"
      ]
    },
    {
      "cell_type": "code",
      "execution_count": null,
      "metadata": {
        "collapsed": false
      },
      "outputs": [],
      "source": [
        "session.solver.tui.define.boundary_conditions.set.pressure_outlet(\n    \"outlet-1\", [], \"turb-intensity\", 5, \"quit\"\n)\nsession.solver.tui.solve.monitors.residual.plot(\"yes\")"
      ]
    },
    {
      "cell_type": "markdown",
      "metadata": {},
      "source": [
        "Initialize the flow field using the Initialization\n\n"
      ]
    },
    {
      "cell_type": "code",
      "execution_count": null,
      "metadata": {
        "collapsed": false
      },
      "outputs": [],
      "source": [
        "session.solver.tui.solve.initialize.hyb_initialization()"
      ]
    },
    {
      "cell_type": "markdown",
      "metadata": {},
      "source": [
        "Start the calculation by requesting 100 iterations\n\n"
      ]
    },
    {
      "cell_type": "code",
      "execution_count": null,
      "metadata": {
        "collapsed": false
      },
      "outputs": [],
      "source": [
        "session.solver.tui.solve.set.number_of_iterations(100)\nsession.solver.tui.solve.iterate()\n\n# session.solver.tui.report.volume_integrals.volume(\"fluid-region-1\",\"()\",\"yes\",\"volume.vrp\")"
      ]
    },
    {
      "cell_type": "markdown",
      "metadata": {},
      "source": [
        "Display path lines highlighting the flow field\n\n"
      ]
    },
    {
      "cell_type": "code",
      "execution_count": null,
      "metadata": {
        "collapsed": false
      },
      "outputs": [],
      "source": [
        "session.solver.tui.display.objects.create(\n    \"pathlines\",\n    \"pathlines-1\",\n    \"field\",\n    \"time\",\n    \"accuracy-control\",\n    \"tolerance\",\n    \"0.001\",\n    \"skip\",\n    \"5\",\n    \"surfaces-list\",\n    \"inlet-1\",\n    \"inlet-2\",\n    \"inlet-3\",\n    \"()\",\n    \"quit\",\n)"
      ]
    },
    {
      "cell_type": "markdown",
      "metadata": {},
      "source": [
        "Create an iso-surface through the manifold geometry.\n\n"
      ]
    },
    {
      "cell_type": "code",
      "execution_count": null,
      "metadata": {
        "collapsed": false
      },
      "outputs": [],
      "source": [
        "session.solver.tui.surface.iso_surface(\n    \"x-coordinate\",\n    \"surf-x-coordinate\",\n    \"()\",\n    \"fluid-region-1\",\n    \"()\",\n    \"380\",\n    \"()\",\n)"
      ]
    },
    {
      "cell_type": "markdown",
      "metadata": {},
      "source": [
        "Create and define contours of velocity magnitude throughout the manifold\nalong with the mesh.\n\n"
      ]
    },
    {
      "cell_type": "code",
      "execution_count": null,
      "metadata": {
        "collapsed": false
      },
      "outputs": [],
      "source": [
        "session.solver.tui.display.objects.create(\n    \"contour\",\n    \"contour-velocity\",\n    \"field\",\n    \"velocity-magnitude\",\n    \"surfaces-list\",\n    \"surf-x-coordinate\",\n    \"()\",\n    \"node-values?\",\n    \"no\",\n    \"range-option\",\n    \"auto-range-on\",\n    \"global-range?\",\n    \"no\",\n    \"quit\",\n    \"quit\",\n)\n\nsession.solver.tui.display.objects.create(\n    \"mesh\", \"mesh-1\", \"surfaces-list\", \"*\", \"()\", \"quit\"\n)"
      ]
    },
    {
      "cell_type": "markdown",
      "metadata": {},
      "source": [
        "Create a scene containing the mesh and the contours.\n\n"
      ]
    },
    {
      "cell_type": "code",
      "execution_count": null,
      "metadata": {
        "collapsed": false
      },
      "outputs": [],
      "source": [
        "session.solver.tui.display.objects.create(\n    \"scene\",\n    \"scene-1\",\n    \"graphics-objects\",\n    \"add\",\n    \"mesh-1\",\n    \"transparency\",\n    \"90\",\n    \"quit\",\n    \"add\",\n    \"contour-velocity\",\n    \"quit\",\n    \"quit\",\n    \"quit\",\n)"
      ]
    },
    {
      "cell_type": "markdown",
      "metadata": {},
      "source": [
        "Close Fluent\n\n"
      ]
    },
    {
      "cell_type": "code",
      "execution_count": null,
      "metadata": {
        "collapsed": false
      },
      "outputs": [],
      "source": [
        "session.exit()"
      ]
    }
  ],
  "metadata": {
    "kernelspec": {
      "display_name": "Python 3",
      "language": "python",
      "name": "python3"
    },
    "language_info": {
      "codemirror_mode": {
        "name": "ipython",
        "version": 3
      },
      "file_extension": ".py",
      "mimetype": "text/x-python",
      "name": "python",
      "nbconvert_exporter": "python",
      "pygments_lexer": "ipython3",
      "version": "3.9.16"
    }
  },
  "nbformat": 4,
  "nbformat_minor": 0
}