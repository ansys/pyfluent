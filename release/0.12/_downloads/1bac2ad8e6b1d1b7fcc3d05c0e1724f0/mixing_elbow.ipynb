{
  "cells": [
    {
      "cell_type": "code",
      "execution_count": null,
      "metadata": {
        "collapsed": false
      },
      "outputs": [],
      "source": [
        "%matplotlib inline"
      ]
    },
    {
      "cell_type": "markdown",
      "metadata": {},
      "source": [
        "\n# Watertight geometry meshing workflow\nThis example sets up and solves a three-dimensional turbulent fluid flow\nand heat transfer problem in a mixing elbow, which is common in piping\nsystems in power plants and process industries. Predicting the flow field\nand temperature field in the area of the mixing region is important to\ndesigning the junction properly.\n\nThis example uses the guided workflow for watertight geometry meshing\nbecause it is appropriate for geometries that can have no imperfections,\nsuch as gaps and leakages.\n\n**Workflow tasks**\n\nThe watertight geometry meshing workflow guides you through these tasks:\n\n- Import a CAD geometry\n- Generate a surface mesh\n- Describe the geometry\n- Generate a volume mesh\n\n**Problem description**\n\nA cold fluid at 20 deg C flows into the pipe through a large inlet. It then mixes\nwith a warmer fluid at 40 deg C that enters through a smaller inlet located at\nthe elbow. The pipe dimensions are in inches, and the fluid properties and\nboundary conditions are given in SI units. Because the Reynolds number for the\nflow at the larger inlet is ``50, 800``, a turbulent flow model is required.\n"
      ]
    },
    {
      "cell_type": "code",
      "execution_count": null,
      "metadata": {
        "collapsed": false
      },
      "outputs": [],
      "source": [
        "# sphinx_gallery_thumbnail_path = '_static/mixing_elbow.png'"
      ]
    },
    {
      "cell_type": "markdown",
      "metadata": {},
      "source": [
        "# Example Setup\nBefore you can use the watertight geometry meshing workflow, you must set up the\nexample and initialize this workflow.\n\n## Perform required imports\nPerform required imports, which includes downloading and importing\nthe geometry file.\n\n"
      ]
    },
    {
      "cell_type": "code",
      "execution_count": null,
      "metadata": {
        "collapsed": false
      },
      "outputs": [],
      "source": [
        "import ansys.fluent.core as pyfluent\nfrom ansys.fluent.core import examples\n\nimport_filename = examples.download_file(\"mixing_elbow.pmdb\", \"pyfluent/mixing_elbow\")"
      ]
    },
    {
      "cell_type": "markdown",
      "metadata": {},
      "source": [
        "## Launch Fluent\nLaunch Fluent as a service in meshing mode with double precision running on\ntwo processors.\n\n"
      ]
    },
    {
      "cell_type": "code",
      "execution_count": null,
      "metadata": {
        "collapsed": false
      },
      "outputs": [],
      "source": [
        "meshing = pyfluent.launch_fluent(precision=\"double\", processor_count=2, mode=\"meshing\")"
      ]
    },
    {
      "cell_type": "markdown",
      "metadata": {},
      "source": [
        "## Initialize workflow\nInitialize the watertight geometry meshing workflow.\n\n"
      ]
    },
    {
      "cell_type": "code",
      "execution_count": null,
      "metadata": {
        "collapsed": false
      },
      "outputs": [],
      "source": [
        "meshing.workflow.InitializeWorkflow(WorkflowType=\"Watertight Geometry\")"
      ]
    },
    {
      "cell_type": "markdown",
      "metadata": {},
      "source": [
        "# Watertight geometry meshing workflow\nThe fault-tolerant meshing workflow guides you through the several tasks that\nfollow.\n\n## Import CAD and set length units\nImport the CAD geometry and set the length units to inches.\n\n"
      ]
    },
    {
      "cell_type": "code",
      "execution_count": null,
      "metadata": {
        "collapsed": false
      },
      "outputs": [],
      "source": [
        "meshing.workflow.TaskObject[\"Import Geometry\"].Arguments = {\n    \"FileName\": import_filename,\n    \"LengthUnit\": \"in\",\n}\n\n# Import geometry\n# ~~~~~~~~~~~~~~~\n# Import the geometry.\n\nmeshing.workflow.TaskObject[\"Import Geometry\"].Execute()"
      ]
    },
    {
      "cell_type": "markdown",
      "metadata": {},
      "source": [
        "## Add local sizing\nAdd local sizing. This task asks whether you want to add local sizing controls\nto the faceted geometry. You can keep the default settings and execute the task.\n\n"
      ]
    },
    {
      "cell_type": "code",
      "execution_count": null,
      "metadata": {
        "collapsed": false
      },
      "outputs": [],
      "source": [
        "meshing.workflow.TaskObject[\"Add Local Sizing\"].AddChildToTask()\nmeshing.workflow.TaskObject[\"Add Local Sizing\"].Execute()"
      ]
    },
    {
      "cell_type": "markdown",
      "metadata": {},
      "source": [
        "## Generate surface mesh\nGenerate the surface mash. In this task, you can set various properties of the\nsurface mesh for the faceted geometry. For ``\"MaxSize\"``, set ``0.3``.\n\n"
      ]
    },
    {
      "cell_type": "code",
      "execution_count": null,
      "metadata": {
        "collapsed": false
      },
      "outputs": [],
      "source": [
        "meshing.workflow.TaskObject[\"Generate the Surface Mesh\"].Arguments = {\n    \"CFDSurfaceMeshControls\": {\"MaxSize\": 0.3}\n}\nmeshing.workflow.TaskObject[\"Generate the Surface Mesh\"].Execute()"
      ]
    },
    {
      "cell_type": "markdown",
      "metadata": {},
      "source": [
        "## Describe geometry\nDescribe the geometry. In this task, you are prompted with questions\nrelating to the nature of the imported geometry, which defines\nthe fluid region. The geometry consists of only fluid regions.\n\n"
      ]
    },
    {
      "cell_type": "code",
      "execution_count": null,
      "metadata": {
        "collapsed": false
      },
      "outputs": [],
      "source": [
        "meshing.workflow.TaskObject[\"Describe Geometry\"].UpdateChildTasks(\n    SetupTypeChanged=False\n)\nmeshing.workflow.TaskObject[\"Describe Geometry\"].Arguments = {\n    \"SetupType\": \"The geometry consists of only fluid regions with no voids\"\n}\nmeshing.workflow.TaskObject[\"Describe Geometry\"].UpdateChildTasks(SetupTypeChanged=True)\nmeshing.workflow.TaskObject[\"Describe Geometry\"].Execute()"
      ]
    },
    {
      "cell_type": "markdown",
      "metadata": {},
      "source": [
        "## Update boundaries\nUpdate the boundaries. Set ``\"BoundaryLabelTypeList\"`` to ``\"wall\"`` and\nupdate the boundaries.\n\n"
      ]
    },
    {
      "cell_type": "code",
      "execution_count": null,
      "metadata": {
        "collapsed": false
      },
      "outputs": [],
      "source": [
        "meshing.workflow.TaskObject[\"Update Boundaries\"].Arguments = {\n    \"BoundaryLabelList\": [\"wall-inlet\"],\n    \"BoundaryLabelTypeList\": [\"wall\"],\n    \"OldBoundaryLabelList\": [\"wall-inlet\"],\n    \"OldBoundaryLabelTypeList\": [\"velocity-inlet\"],\n}\nmeshing.workflow.TaskObject[\"Update Boundaries\"].Execute()"
      ]
    },
    {
      "cell_type": "markdown",
      "metadata": {},
      "source": [
        "## Update regions\nUpdate the regions. In this task, you can review the names and types of\nthe various regions that have been generated from your imported geometry and\nchange them as needed. You can keep the default settings.\n\n"
      ]
    },
    {
      "cell_type": "code",
      "execution_count": null,
      "metadata": {
        "collapsed": false
      },
      "outputs": [],
      "source": [
        "meshing.workflow.TaskObject[\"Update Regions\"].Execute()"
      ]
    },
    {
      "cell_type": "markdown",
      "metadata": {},
      "source": [
        "## Add boundary layers\nAdd boundary layers, which consist of setting properties for the\nboundary layer mesh. You can keep the default settings.\n\n"
      ]
    },
    {
      "cell_type": "code",
      "execution_count": null,
      "metadata": {
        "collapsed": false
      },
      "outputs": [],
      "source": [
        "meshing.workflow.TaskObject[\"Add Boundary Layers\"].AddChildToTask()\nmeshing.workflow.TaskObject[\"Add Boundary Layers\"].InsertCompoundChildTask()\nmeshing.workflow.TaskObject[\"smooth-transition_1\"].Arguments = {\n    \"BLControlName\": \"smooth-transition_1\",\n}\nmeshing.workflow.TaskObject[\"Add Boundary Layers\"].Arguments = {}\nmeshing.workflow.TaskObject[\"smooth-transition_1\"].Execute()"
      ]
    },
    {
      "cell_type": "markdown",
      "metadata": {},
      "source": [
        "## Generate volume mesh\nGenerate the volume mesh, which consists of setting properties for the\nvolume mesh. Set ``\"VolumeFill\"`` to ``\"poly-hexcore\"``.\n\n"
      ]
    },
    {
      "cell_type": "code",
      "execution_count": null,
      "metadata": {
        "collapsed": false
      },
      "outputs": [],
      "source": [
        "meshing.workflow.TaskObject[\"Generate the Volume Mesh\"].Arguments = {\n    \"VolumeFill\": \"poly-hexcore\",\n    \"VolumeFillControls\": {\n        \"HexMaxCellLength\": 0.3,\n    },\n}\nmeshing.workflow.TaskObject[\"Generate the Volume Mesh\"].Execute()"
      ]
    },
    {
      "cell_type": "markdown",
      "metadata": {},
      "source": [
        "<img src=\"file://_static/mixing_elbow_011.png\" width=\"500pt\" align=\"center\">\n\n"
      ]
    },
    {
      "cell_type": "markdown",
      "metadata": {},
      "source": [
        "## Check mesh in meshing mode\nCheck the mesh in meshing mode\n\n"
      ]
    },
    {
      "cell_type": "code",
      "execution_count": null,
      "metadata": {
        "collapsed": false
      },
      "outputs": [],
      "source": [
        "meshing.tui.mesh.check_mesh()"
      ]
    },
    {
      "cell_type": "markdown",
      "metadata": {},
      "source": [
        "## Save mesh file\nSave the mesh file (``mixing_elbow.msh.h5``).\n\n"
      ]
    },
    {
      "cell_type": "code",
      "execution_count": null,
      "metadata": {
        "collapsed": false
      },
      "outputs": [],
      "source": [
        "meshing.tui.file.write_mesh(\"mixing_elbow.msh.h5\")"
      ]
    },
    {
      "cell_type": "markdown",
      "metadata": {},
      "source": [
        "# Solve and postprocess\nOnce you have completed the watertight geometry meshing workflow, you can\nsolve and postprcess the results.\n\n## Switch to solution mode\nSwitch to solution mode. Now that a high-quality mesh has been generated\nusing Fluent in meshing mode, you can switch to solver mode to complete the\nsetup of the simulation. Because you have just checked the mesh, set ``\"yes\"``\nto switch to the solution mode.\n\n"
      ]
    },
    {
      "cell_type": "code",
      "execution_count": null,
      "metadata": {
        "collapsed": false
      },
      "outputs": [],
      "source": [
        "solver = meshing.switch_to_solver()"
      ]
    },
    {
      "cell_type": "markdown",
      "metadata": {},
      "source": [
        "## Check mesh in solver mode\nCheck the mesh in solver mode. The mesh check lists the minimum and maximum\nx, y, and z values from the mesh in the default SI units of meters. It also\nreports a number of other mesh features that are checked. Any errors in the\nmesh are reported. Ensure that the minimum volume is not negative because\nFluent cannot begin a calculation when this is the case.\n\n"
      ]
    },
    {
      "cell_type": "code",
      "execution_count": null,
      "metadata": {
        "collapsed": false
      },
      "outputs": [],
      "source": [
        "solver.tui.mesh.check()"
      ]
    },
    {
      "cell_type": "markdown",
      "metadata": {},
      "source": [
        "## Set working units for mesh\nSet the working units for the mesh to inches. Because the default SI units are\nused for everything except length, you do not have to change any other units\nin this example. If you want working units for length to be other than inches\n(for example, millimeters), make the appropriate change.\n\n"
      ]
    },
    {
      "cell_type": "code",
      "execution_count": null,
      "metadata": {
        "collapsed": false
      },
      "outputs": [],
      "source": [
        "solver.tui.define.units(\"length\", \"in\")"
      ]
    },
    {
      "cell_type": "markdown",
      "metadata": {},
      "source": [
        "## Enable heat transfer\nEnable heat transfer by activating the energy equation.\n\n"
      ]
    },
    {
      "cell_type": "code",
      "execution_count": null,
      "metadata": {
        "collapsed": false
      },
      "outputs": [],
      "source": [
        "solver.tui.define.models.energy(\"yes\", \", \", \", \", \", \", \", \")"
      ]
    },
    {
      "cell_type": "markdown",
      "metadata": {},
      "source": [
        "## Create material\nCreate a material named ``\"water-liquid\"``.\n\n"
      ]
    },
    {
      "cell_type": "code",
      "execution_count": null,
      "metadata": {
        "collapsed": false
      },
      "outputs": [],
      "source": [
        "solver.tui.define.materials.copy(\"fluid\", \"water-liquid\")"
      ]
    },
    {
      "cell_type": "markdown",
      "metadata": {},
      "source": [
        "## Set up cell zone conditions\nSet up the cell zone conditions for the fluid zone (``elbow-fluid``)``. Set the\nmaterial to ``\"water-liquid\"``.\n\n"
      ]
    },
    {
      "cell_type": "code",
      "execution_count": null,
      "metadata": {
        "collapsed": false
      },
      "outputs": [],
      "source": [
        "solver.tui.define.boundary_conditions.fluid(\n    \"elbow-fluid\",\n    \"yes\",\n    \"water-liquid\",\n    \"no\",\n    \"no\",\n    \"no\",\n    \"no\",\n    \"0\",\n    \"no\",\n    \"0\",\n    \"no\",\n    \"0\",\n    \"no\",\n    \"0\",\n    \"no\",\n    \"0\",\n    \"no\",\n    \"1\",\n    \"no\",\n    \"no\",\n    \"no\",\n    \"no\",\n    \"no\",\n)"
      ]
    },
    {
      "cell_type": "markdown",
      "metadata": {},
      "source": [
        "## Set up boundary conditions for CFD analysis\nSet up the boundary conditions for the inlets, outlet, and walls for CFD\nanalysis.\n\n"
      ]
    },
    {
      "cell_type": "code",
      "execution_count": null,
      "metadata": {
        "collapsed": false
      },
      "outputs": [],
      "source": [
        "# cold inlet (cold-inlet), Setting: Value:\n# Velocity Specification Method: Magnitude, Normal to Boundary\n\nsolver.tui.define.boundary_conditions.set.velocity_inlet(\n    \"cold-inlet\", [], \"vmag\", \"no\", 0.4, \"quit\"\n)\nsolver.tui.define.boundary_conditions.set.velocity_inlet(\n    \"cold-inlet\", [], \"ke-spec\", \"no\", \"no\", \"no\", \"yes\", \"quit\"\n)\nsolver.tui.define.boundary_conditions.set.velocity_inlet(\n    \"cold-inlet\", [], \"turb-intensity\", 5, \"quit\"\n)\nsolver.tui.define.boundary_conditions.set.velocity_inlet(\n    \"cold-inlet\", [], \"turb-hydraulic-diam\", 4, \"quit\"\n)\nsolver.tui.define.boundary_conditions.set.velocity_inlet(\n    \"cold-inlet\", [], \"temperature\", \"no\", 293.15, \"quit\"\n)\n\n# hot inlet (hot-inlet), Setting: Value:\n# Velocity Specification Method: Magnitude, Normal to Boundary\n\nsolver.tui.define.boundary_conditions.set.velocity_inlet(\n    \"hot-inlet\", [], \"vmag\", \"no\", 1.2, \"quit\"\n)\nsolver.tui.define.boundary_conditions.set.velocity_inlet(\n    \"hot-inlet\", [], \"ke-spec\", \"no\", \"no\", \"no\", \"yes\", \"quit\"\n)\nsolver.tui.define.boundary_conditions.set.velocity_inlet(\n    \"hot-inlet\", [], \"turb-intensity\", 5, \"quit\"\n)\nsolver.tui.define.boundary_conditions.set.velocity_inlet(\n    \"hot-inlet\", [], \"turb-hydraulic-diam\", 1, \"quit\"\n)\nsolver.tui.define.boundary_conditions.set.velocity_inlet(\n    \"hot-inlet\", [], \"temperature\", \"no\", 313.15, \"quit\"\n)\n\n# pressure outlet (outlet), Setting: Value:\n# Backflow Turbulent Intensity: 5 [%]\n# Backflow Turbulent Viscosity Ratio: 4\n\nsolver.tui.define.boundary_conditions.set.pressure_outlet(\n    \"outlet\", [], \"turb-intensity\", 5, \"quit\"\n)\nsolver.tui.define.boundary_conditions.set.pressure_outlet(\n    \"outlet\", [], \"turb-viscosity-ratio\", 4, \"quit\"\n)"
      ]
    },
    {
      "cell_type": "markdown",
      "metadata": {},
      "source": [
        "## Enable plotting of residuals during calculation\nEnable plotting of residuals during the calculation.\n\n"
      ]
    },
    {
      "cell_type": "code",
      "execution_count": null,
      "metadata": {
        "collapsed": false
      },
      "outputs": [],
      "source": [
        "solver.tui.solve.monitors.residual.plot(\"yes\")"
      ]
    },
    {
      "cell_type": "markdown",
      "metadata": {},
      "source": [
        "## Create surface report definition\nCreate a surface report definition of the average temperature at the outlet\nnamed ``\"outlet-temp-avg\"``.\n\n"
      ]
    },
    {
      "cell_type": "code",
      "execution_count": null,
      "metadata": {
        "collapsed": false
      },
      "outputs": [],
      "source": [
        "solver.tui.solve.report_definitions.add(\n    \"outlet-temp-avg\",\n    \"surface-massavg\",\n    \"field\",\n    \"temperature\",\n    \"surface-names\",\n    \"outlet\",\n    \"()\",\n    \"quit\",\n)"
      ]
    },
    {
      "cell_type": "markdown",
      "metadata": {},
      "source": [
        "## Create expression report definition\nCreate a report definition of single value expression type computing the difference\nof area-averaged static pressure over cold-inlet and oulet. The name of the\nreport definition is ``\"ave-pressure-diff\"``.\n\n"
      ]
    },
    {
      "cell_type": "code",
      "execution_count": null,
      "metadata": {
        "collapsed": false
      },
      "outputs": [],
      "source": [
        "solver.tui.solve.report_definitions.add(\n    \"ave-pressure-diff\",\n    \"single-val-expression\",\n    \"define\",\n    \"\\\"AreaAve(StaticPressure, ['cold-inlet'])-AreaAve(StaticPressure, ['outlet'])\\\"\",\n    \"quit\",\n)"
      ]
    },
    {
      "cell_type": "markdown",
      "metadata": {},
      "source": [
        "## Create convergence condition\nCreate a convergence condition for ``outlet-temp-avg``.\n\n"
      ]
    },
    {
      "cell_type": "code",
      "execution_count": null,
      "metadata": {
        "collapsed": false
      },
      "outputs": [],
      "source": [
        "# - Set ``\"add\"`` to ``\"con-outlet-temp-avg\"``.\n# - Set ``\"report-defs\"`` to ``\"outlet-temp-avg\"``.\n# - Set ``\"stop-criterion\"`` to ``\"1e-04\"``.\n# - Set ``\"initial-values-to-ignore\"`` to ``\"20\"``.\n# - Set ``\"previous-values-to-consider\"`` to ``\"15\"``.\n# - Set ``\"print?\"``to ``\"yes\"``.\n# - Set ``\"frequency\"`` to ``\"3\"``.\n#\n# These settings cause Fluent to consider the solution converged when the\n# surface report definition value for each of the previous 15 iterations is\n# within 0.001% of the current value. Convergence of the values is checked\n# every 3 iterations. The first 20 iterations are ignored, allowing for any\n# initial solution dynamics to settle out. Note that the value printed to the\n# console is the deviation between the current and previous iteration values\n# only.\n\nsolver.tui.solve.convergence_conditions(\n    \"conv-reports\",\n    \"add\",\n    \"con-outlet-temp-avg\",\n    \"initial-values-to-ignore\",\n    \"20\",\n    \"previous-values-to-consider\",\n    \"15\",\n    \"print?\",\n    \"yes\",\n    \"report-defs\",\n    \"outlet-temp-avg\",\n    \"stop-criterion\",\n    \"1e-04\",\n    \"quit\",\n    \"quit\",\n    \"condition\",\n    \"1\",\n    \"frequency\",\n    \"3\",\n    \"quit\",\n)\nsolver.tui.solve.convergence_conditions(\"frequency\", \"3\", \"quit\")"
      ]
    },
    {
      "cell_type": "markdown",
      "metadata": {},
      "source": [
        "## Initialize flow field\nInitialize the flow field using hybrid initialization.\n\n"
      ]
    },
    {
      "cell_type": "code",
      "execution_count": null,
      "metadata": {
        "collapsed": false
      },
      "outputs": [],
      "source": [
        "solver.tui.solve.initialize.hyb_initialization()"
      ]
    },
    {
      "cell_type": "markdown",
      "metadata": {},
      "source": [
        "## Save case file\nSolve the case file (``mixing_elbow1.cas.h5``).\n\n"
      ]
    },
    {
      "cell_type": "code",
      "execution_count": null,
      "metadata": {
        "collapsed": false
      },
      "outputs": [],
      "source": [
        "solver.tui.file.write_case(\"mixing_elbow1.cas.h5\")"
      ]
    },
    {
      "cell_type": "markdown",
      "metadata": {},
      "source": [
        "## Solve for 100 iterations\nSolve for 100 iterations.\n\n"
      ]
    },
    {
      "cell_type": "code",
      "execution_count": null,
      "metadata": {
        "collapsed": false
      },
      "outputs": [],
      "source": [
        "solver.tui.solve.iterate(100)"
      ]
    },
    {
      "cell_type": "markdown",
      "metadata": {},
      "source": [
        "<img src=\"file://_static/mixing_elbow_012.png\" width=\"500pt\" align=\"center\">\n\n"
      ]
    },
    {
      "cell_type": "markdown",
      "metadata": {},
      "source": [
        "<img src=\"file://_static/mixing_elbow_013.png\" width=\"500pt\" align=\"center\">\n\n"
      ]
    },
    {
      "cell_type": "markdown",
      "metadata": {},
      "source": [
        "## Save data file\nSave the data file (``mixing_elbow1.dat.h5``).\n\n"
      ]
    },
    {
      "cell_type": "code",
      "execution_count": null,
      "metadata": {
        "collapsed": false
      },
      "outputs": [],
      "source": [
        "solver.tui.file.write_data(\"mixing_elbow1.dat.h5\")"
      ]
    },
    {
      "cell_type": "markdown",
      "metadata": {},
      "source": [
        "## Create definition for velocity magnitude contours\nCreate and display a definition for the velocity magnitude contours on the\nsymmetry plane.\n\n- Set ``\"contour\"`` to ``\"contour-vel\"``.\n- Set ``\"field\"`` to ``\"velocity-magnitude\"``.\n- Set ``\"surfaces-list\"`` to ``\"symmetry-xyplane\"``.\n- Set ``\"display\"`` to ``\"contour-vel contour\"``.\n\n"
      ]
    },
    {
      "cell_type": "code",
      "execution_count": null,
      "metadata": {
        "collapsed": false
      },
      "outputs": [],
      "source": [
        "solver.tui.display.objects.create(\n    \"contour\",\n    \"contour-vel\",\n    \"filled?\",\n    \"yes\",\n    \"node-values?\",\n    \"yes\",\n    \"field\",\n    \"velocity-magnitude\",\n    \"surfaces-list\",\n    \"symmetry-xyplane\",\n    \"()\",\n    \"coloring\",\n    \"banded\",\n    \"quit\",\n)"
      ]
    },
    {
      "cell_type": "markdown",
      "metadata": {},
      "source": [
        "<img src=\"file://_static/mixing_elbow_014.png\" width=\"500pt\" align=\"center\">\n\n"
      ]
    },
    {
      "cell_type": "markdown",
      "metadata": {},
      "source": [
        "## Create definition for temperature contours\nCreate and display a definition for temperature contours on the symmetry\nplane.\n\n- Set ``\"contour\"`` to ``\"contour-temp\"``.\n- Set ``\"field\"`` to ``\"temperature\"``.\n- Set ``\"surfaces-list\"`` to ``\"symmetry-xyplane\"``.\n- Set ``\"display\"`` to ``\"contour-temp contour\"``.\n\n"
      ]
    },
    {
      "cell_type": "code",
      "execution_count": null,
      "metadata": {
        "collapsed": false
      },
      "outputs": [],
      "source": [
        "solver.tui.display.objects.create(\n    \"contour\",\n    \"contour-temp\",\n    \"filled?\",\n    \"yes\",\n    \"node-values?\",\n    \"yes\",\n    \"field\",\n    \"temperature\",\n    \"surfaces-list\",\n    \"symmetry-xyplane\",\n    \"()\",\n    \"coloring\",\n    \"smooth\",\n    \"quit\",\n)"
      ]
    },
    {
      "cell_type": "markdown",
      "metadata": {},
      "source": [
        "<img src=\"file://_static/mixing_elbow_015.png\" width=\"500pt\" align=\"center\">\n\n"
      ]
    },
    {
      "cell_type": "markdown",
      "metadata": {},
      "source": [
        "## Create velocity vectors\nCreate and display velocity vectors on the symmetry-xyplane plane.\n\n- Set ``\"vector\"`` to ``\"vector-vel\"``.\n- Set ``\"style\"`` to ``\"arrow\"``.\n- Set ``\"surface-list\"`` to ``\"symmetry-xyplane\"``.\n- Set ``\"scale\"`` to ``\"4\"``.\n- Set ``\"skip\"`` to ``\"2\"``.\n\n"
      ]
    },
    {
      "cell_type": "code",
      "execution_count": null,
      "metadata": {
        "collapsed": false
      },
      "outputs": [],
      "source": [
        "solver.tui.display.objects.create(\n    \"vector\",\n    \"vector-vel\",\n    \"style\",\n    \"arrow\",\n    \"surface-list\",\n    \"symmetry-xyplane\",\n    \"()\",\n    \"scale\",\n    \"scale-f\",\n    \"4\",\n    \"quit\",\n    \"skip\",\n    \"2\",\n    \"quit\",\n)"
      ]
    },
    {
      "cell_type": "markdown",
      "metadata": {},
      "source": [
        "<img src=\"file://_static/mixing_elbow_016.png\" width=\"500pt\" align=\"center\">\n\n"
      ]
    },
    {
      "cell_type": "markdown",
      "metadata": {},
      "source": [
        "## Create iso-surface\nCreate an iso-surface representing the intersection of the plane z=0 and the\nsurface outlet. Name it ``\"z=0_outlet\"``.\n\n"
      ]
    },
    {
      "cell_type": "code",
      "execution_count": null,
      "metadata": {
        "collapsed": false
      },
      "outputs": [],
      "source": [
        "solver.tui.surface.iso_surface(\n    \"z-coordinate\", \"z=0_outlet\", \"outlet\", \"()\", \"()\", \"0\", \"()\"\n)"
      ]
    },
    {
      "cell_type": "markdown",
      "metadata": {},
      "source": [
        "## Display and save XY plot\nDisplay and save an XY plot of the temperature profile across the centerline\nof the outlet for the initial solution.\n\n"
      ]
    },
    {
      "cell_type": "code",
      "execution_count": null,
      "metadata": {
        "collapsed": false
      },
      "outputs": [],
      "source": [
        "solver.tui.display.objects.create(\n    \"xy\",\n    \"xy-outlet-temp\",\n    \"y-axis-function\",\n    \"temperature\",\n    \"surfaces-list\",\n    \"z=0_outlet\",\n    \"()\",\n    \"quit\",\n)"
      ]
    },
    {
      "cell_type": "markdown",
      "metadata": {},
      "source": [
        "<img src=\"file://_static/mixing_elbow_017.png\" width=\"500pt\" align=\"center\">\n\n"
      ]
    },
    {
      "cell_type": "markdown",
      "metadata": {},
      "source": [
        "## Write final case file and data\nWrite the final case file and the data.\n\n"
      ]
    },
    {
      "cell_type": "code",
      "execution_count": null,
      "metadata": {
        "collapsed": false
      },
      "outputs": [],
      "source": [
        "solver.tui.file.write_case_data(\"mixing_elbow2_tui.cas.h5\")"
      ]
    },
    {
      "cell_type": "markdown",
      "metadata": {},
      "source": [
        "## Close Fluent\nClose Fluent.\n\n"
      ]
    },
    {
      "cell_type": "code",
      "execution_count": null,
      "metadata": {
        "collapsed": false
      },
      "outputs": [],
      "source": [
        "solver.exit()"
      ]
    }
  ],
  "metadata": {
    "kernelspec": {
      "display_name": "Python 3",
      "language": "python",
      "name": "python3"
    },
    "language_info": {
      "codemirror_mode": {
        "name": "ipython",
        "version": 3
      },
      "file_extension": ".py",
      "mimetype": "text/x-python",
      "name": "python",
      "nbconvert_exporter": "python",
      "pygments_lexer": "ipython3",
      "version": "3.9.12"
    }
  },
  "nbformat": 4,
  "nbformat_minor": 0
}