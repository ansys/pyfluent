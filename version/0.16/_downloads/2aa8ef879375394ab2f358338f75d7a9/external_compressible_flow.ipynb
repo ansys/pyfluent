{
  "cells": [
    {
      "cell_type": "code",
      "execution_count": null,
      "metadata": {
        "collapsed": false
      },
      "outputs": [],
      "source": [
        "%matplotlib inline"
      ]
    },
    {
      "cell_type": "markdown",
      "metadata": {},
      "source": [
        "\n# Modeling External Compressible Flow\nThe purpose of this tutorial is to compute the turbulent flow past a transonic\nwing at a nonzero angle of attack using the k-w SST turbulence model.\n\nThis example uses the guided workflow for watertight geometry meshing\nbecause it is appropriate for geometries that can have no imperfections,\nsuch as gaps and leakages.\n\n**Workflow tasks**\n\nThe Modeling External Compressible Flow Using the Meshing Workflow guides you through these tasks:\n\n- Creation of capsule mesh using Watertight Geometry workflow.\n- Model compressible flow (using the ideal gas law for density).\n- Set boundary conditions for external aerodynamics.\n- Use the k-w SST turbulence model.\n- Calculate a solution using the pressure-based coupled solver with global time step selected for the pseudo time method.\n- Check the near-wall mesh resolution by plotting the distribution of .\n\n**Problem description**\n\nThe problem considers the flow around a wing at an angle of attack a=3.06\u00b0 and a free stream Mach\nnumber of 0.8395 (M=0.8395). The flow is transonic, and has a shock near the mid-chord (x/c\u22430.20)\non the upper (suction) side. The wing has a mean aerodynamic chord length of 0.64607 m, a span of 1.1963 m,\nan aspect ratio of 3.8, and a taper ratio of 0.562.\n"
      ]
    },
    {
      "cell_type": "code",
      "execution_count": null,
      "metadata": {
        "collapsed": false
      },
      "outputs": [],
      "source": [
        "# sphinx_gallery_thumbnail_path = '_static/external_compressible_flow.png'"
      ]
    },
    {
      "cell_type": "markdown",
      "metadata": {},
      "source": [
        "<img src=\"file://_static/external_compressible_flow_011.png\" width=\"500pt\" align=\"center\">\n\n"
      ]
    },
    {
      "cell_type": "markdown",
      "metadata": {},
      "source": [
        "# Example Setup\nBefore you can use the meshing workflow, you must set up the\nexample and initialize this workflow.\n\n## Perform required imports\nPerform required imports, which includes downloading and importing\nthe geometry files.\n\n"
      ]
    },
    {
      "cell_type": "code",
      "execution_count": null,
      "metadata": {
        "collapsed": false
      },
      "outputs": [],
      "source": [
        "import ansys.fluent.core as pyfluent\nfrom ansys.fluent.core import examples\n\nwing_spaceclaim_file, wing_intermediary_file = [\n    examples.download_file(\n        CAD_file, \"pyfluent/external_compressible\", save_path=pyfluent.EXAMPLES_PATH\n    )\n    for CAD_file in [\"wing.scdoc\", \"wing.pmdb\"]\n]"
      ]
    },
    {
      "cell_type": "markdown",
      "metadata": {},
      "source": [
        "## Launch Fluent\nLaunch Fluent as a service in meshing mode with double precision running on\nfour processors.\n\n"
      ]
    },
    {
      "cell_type": "code",
      "execution_count": null,
      "metadata": {
        "collapsed": false
      },
      "outputs": [],
      "source": [
        "meshing = pyfluent.launch_fluent(\n    precision=\"double\",\n    processor_count=4,\n    mode=\"meshing\",\n    cwd=pyfluent.EXAMPLES_PATH,\n)"
      ]
    },
    {
      "cell_type": "markdown",
      "metadata": {},
      "source": [
        "## Initialize workflow\nInitialize the watertight geometry meshing workflow.\n\n"
      ]
    },
    {
      "cell_type": "code",
      "execution_count": null,
      "metadata": {
        "collapsed": false
      },
      "outputs": [],
      "source": [
        "meshing.workflow.InitializeWorkflow(WorkflowType=\"Watertight Geometry\")"
      ]
    },
    {
      "cell_type": "markdown",
      "metadata": {},
      "source": [
        "# Watertight geometry meshing workflow\nThe fault-tolerant meshing workflow guides you through the several tasks that\nfollow.\n\n## Import CAD and set length units\nImport the CAD geometry and set the length units to inches.\n\n"
      ]
    },
    {
      "cell_type": "code",
      "execution_count": null,
      "metadata": {
        "collapsed": false
      },
      "outputs": [],
      "source": [
        "meshing.workflow.TaskObject[\"Import Geometry\"].Arguments.set_state(\n    {\n        \"FileName\": wing_intermediary_file,\n    }\n)\n\nmeshing.workflow.TaskObject[\"Import Geometry\"].Execute()"
      ]
    },
    {
      "cell_type": "markdown",
      "metadata": {},
      "source": [
        "## Add local sizing\nAdd local sizing controls to the faceted geometry.\n\n"
      ]
    },
    {
      "cell_type": "code",
      "execution_count": null,
      "metadata": {
        "collapsed": false
      },
      "outputs": [],
      "source": [
        "meshing.workflow.TaskObject[\"Add Local Sizing\"].Arguments.set_state(\n    {\n        \"AddChild\": \"yes\",\n        \"BOIControlName\": \"wing-facesize\",\n        \"BOIFaceLabelList\": [\"wing_bottom\", \"wing_top\"],\n        \"BOISize\": 10,\n    }\n)\n\nmeshing.workflow.TaskObject[\"Add Local Sizing\"].AddChildAndUpdate()\n\nmeshing.workflow.TaskObject[\"Add Local Sizing\"].Arguments.set_state(\n    {\n        \"AddChild\": \"yes\",\n        \"BOIControlName\": \"wing-ege-facesize\",\n        \"BOIFaceLabelList\": [\"wing_edge\"],\n        \"BOISize\": 2,\n    }\n)\n\nmeshing.workflow.TaskObject[\"Add Local Sizing\"].AddChildAndUpdate()\n\nmeshing.workflow.TaskObject[\"Add Local Sizing\"].Arguments.set_state(\n    {\n        \"AddChild\": \"yes\",\n        \"BOIControlName\": \"boi_1\",\n        \"BOIExecution\": \"Body Of Influence\",\n        \"BOIFaceLabelList\": [\"wing-boi\"],\n        \"BOISize\": 5,\n    }\n)\n\nmeshing.workflow.TaskObject[\"Add Local Sizing\"].AddChildAndUpdate()"
      ]
    },
    {
      "cell_type": "markdown",
      "metadata": {},
      "source": [
        "## Generate surface mesh\nGenerate the surface mash.\n\n"
      ]
    },
    {
      "cell_type": "code",
      "execution_count": null,
      "metadata": {
        "collapsed": false
      },
      "outputs": [],
      "source": [
        "meshing.workflow.TaskObject[\"Generate the Surface Mesh\"].Arguments.set_state(\n    {\"CFDSurfaceMeshControls\": {\"MaxSize\": 1000, \"MinSize\": 2}}\n)\n\nmeshing.workflow.TaskObject[\"Generate the Surface Mesh\"].Execute()"
      ]
    },
    {
      "cell_type": "markdown",
      "metadata": {},
      "source": [
        "## Describe geometry\nDescribe geometry and define the fluid region.\n\n"
      ]
    },
    {
      "cell_type": "code",
      "execution_count": null,
      "metadata": {
        "collapsed": false
      },
      "outputs": [],
      "source": [
        "meshing.workflow.TaskObject[\"Describe Geometry\"].UpdateChildTasks(\n    SetupTypeChanged=False\n)\n\nmeshing.workflow.TaskObject[\"Describe Geometry\"].Arguments.set_state(\n    {\"SetupType\": \"The geometry consists of only fluid regions with no voids\"}\n)\n\nmeshing.workflow.TaskObject[\"Describe Geometry\"].UpdateChildTasks(SetupTypeChanged=True)\n\nmeshing.workflow.TaskObject[\"Describe Geometry\"].Execute()"
      ]
    },
    {
      "cell_type": "markdown",
      "metadata": {},
      "source": [
        "## Update boundaries\nUpdate the boundaries.\n\n"
      ]
    },
    {
      "cell_type": "code",
      "execution_count": null,
      "metadata": {
        "collapsed": false
      },
      "outputs": [],
      "source": [
        "meshing.workflow.TaskObject[\"Update Boundaries\"].Execute()"
      ]
    },
    {
      "cell_type": "markdown",
      "metadata": {},
      "source": [
        "## Update regions\nUpdate the regions.\n\n"
      ]
    },
    {
      "cell_type": "code",
      "execution_count": null,
      "metadata": {
        "collapsed": false
      },
      "outputs": [],
      "source": [
        "meshing.workflow.TaskObject[\"Update Regions\"].Execute()"
      ]
    },
    {
      "cell_type": "markdown",
      "metadata": {},
      "source": [
        "## Add boundary layers\nAdd boundary layers, which consist of setting properties for the\nboundary layer mesh.\n\n"
      ]
    },
    {
      "cell_type": "code",
      "execution_count": null,
      "metadata": {
        "collapsed": false
      },
      "outputs": [],
      "source": [
        "meshing.workflow.TaskObject[\"Add Boundary Layers\"].Arguments.set_state(\n    {\"NumberOfLayers\": 12}\n)\n\nmeshing.workflow.TaskObject[\"Add Boundary Layers\"].AddChildAndUpdate()"
      ]
    },
    {
      "cell_type": "markdown",
      "metadata": {},
      "source": [
        "## Generate volume mesh\nGenerate the volume mesh, which consists of setting properties for the\nvolume mesh.\n\n"
      ]
    },
    {
      "cell_type": "code",
      "execution_count": null,
      "metadata": {
        "collapsed": false
      },
      "outputs": [],
      "source": [
        "meshing.workflow.TaskObject[\"Generate the Volume Mesh\"].Arguments.set_state(\n    {\n        \"VolumeFill\": \"poly-hexcore\",\n        \"VolumeFillControls\": {\"HexMaxCellLength\": 512},\n        \"VolumeMeshPreferences\": {\n            \"CheckSelfProximity\": \"yes\",\n            \"ShowVolumeMeshPreferences\": True,\n        },\n    }\n)\n\nmeshing.workflow.TaskObject[\"Generate the Volume Mesh\"].Execute()"
      ]
    },
    {
      "cell_type": "markdown",
      "metadata": {},
      "source": [
        "## Check mesh in meshing mode\nCheck the mesh in meshing mode.\n\n"
      ]
    },
    {
      "cell_type": "code",
      "execution_count": null,
      "metadata": {
        "collapsed": false
      },
      "outputs": [],
      "source": [
        "meshing.tui.mesh.check_mesh()"
      ]
    },
    {
      "cell_type": "markdown",
      "metadata": {},
      "source": [
        "## Save mesh file\nSave the mesh file (``wing.msh.h5``).\n\n"
      ]
    },
    {
      "cell_type": "code",
      "execution_count": null,
      "metadata": {
        "collapsed": false
      },
      "outputs": [],
      "source": [
        "meshing.tui.file.write_mesh(\"wing.msh.h5\")"
      ]
    },
    {
      "cell_type": "markdown",
      "metadata": {},
      "source": [
        "# Solve and postprocess\nOnce you have completed the watertight geometry meshing workflow, you can\nsolve and postprcess the results.\n\n## Switch to solution mode\nSwitch to solution mode. Now that a high-quality mesh has been generated\nusing Fluent in meshing mode, you can switch to solver mode to complete the\nsetup of the simulation.\n\n"
      ]
    },
    {
      "cell_type": "code",
      "execution_count": null,
      "metadata": {
        "collapsed": false
      },
      "outputs": [],
      "source": [
        "solver = meshing.switch_to_solver()"
      ]
    },
    {
      "cell_type": "markdown",
      "metadata": {},
      "source": [
        "## Check mesh in solver mode\nCheck the mesh in solver mode. The mesh check lists the minimum and maximum\nx, y, and z values from the mesh in the default SI units of meters. It also\nreports a number of other mesh features that are checked. Any errors in the\nmesh are reported.\n\n"
      ]
    },
    {
      "cell_type": "code",
      "execution_count": null,
      "metadata": {
        "collapsed": false
      },
      "outputs": [],
      "source": [
        "solver.mesh.check()"
      ]
    },
    {
      "cell_type": "markdown",
      "metadata": {},
      "source": [
        "## Define model\nSet the k-w sst turbulence model.\n\n"
      ]
    },
    {
      "cell_type": "code",
      "execution_count": null,
      "metadata": {
        "collapsed": false
      },
      "outputs": [],
      "source": [
        "# model : k-omega\n# k-omega model : sst\n\nsolver.setup.models.viscous.model = \"k-omega\"\n\nsolver.setup.models.viscous.k_omega_model = \"sst\""
      ]
    },
    {
      "cell_type": "markdown",
      "metadata": {},
      "source": [
        "## Define materials\nModify the default material ``air`` to account for compressibility and variations of the thermophysical properties with temperature.\n\n"
      ]
    },
    {
      "cell_type": "code",
      "execution_count": null,
      "metadata": {
        "collapsed": false
      },
      "outputs": [],
      "source": [
        "# density : ideal-gas\n# viscosity : sutherland\n# viscosity method : three-coefficient-method\n# reference viscosity : 1.716e-05 [kg/(m s)]\n# reference temperature : 273.11 [K]\n# effective temperature : 110.56 [K]\n\nair = solver.setup.materials.fluid[\"air\"]\n\nair.density.option = \"ideal-gas\"\n\nair.viscosity.option = \"sutherland\"\n\nair.viscosity.sutherland.option = \"three-coefficient-method\"\n\nair.viscosity.sutherland.reference_viscosity = 1.716e-05\n\nair.viscosity.sutherland.reference_temperature = 273.11\n\nair.viscosity.sutherland.effective_temperature = 110.56"
      ]
    },
    {
      "cell_type": "markdown",
      "metadata": {},
      "source": [
        "## Boundary Conditions\nSet the boundary conditions for ``pressure_farfield``.\n\n"
      ]
    },
    {
      "cell_type": "code",
      "execution_count": null,
      "metadata": {
        "collapsed": false
      },
      "outputs": [],
      "source": [
        "# gauge pressure : 0 [Pa]\n# mach number : 0.8395\n# temperature : 255.56 [K]\n# x-component of flow direction : 0.998574\n# z-component of flow direction : 0.053382\n# turbulent intensity : 5 [%]\n# turbulent viscosity ratio : 10\n\npressure_farfield = solver.setup.boundary_conditions.pressure_far_field[\n    \"pressure_farfield\"\n]\n\npressure_farfield.gauge_pressure = 0\n\npressure_farfield.m = 0.8395\n\npressure_farfield.t = 255.56\n\npressure_farfield.flow_direction[0] = 0.998574\n\npressure_farfield.flow_direction[2] = 0.053382\n\npressure_farfield.turb_intensity = 0.05\n\npressure_farfield.turb_viscosity_ratio = 10"
      ]
    },
    {
      "cell_type": "markdown",
      "metadata": {},
      "source": [
        "## Operating Conditions\nSet the operating conditions.\n\n"
      ]
    },
    {
      "cell_type": "code",
      "execution_count": null,
      "metadata": {
        "collapsed": false
      },
      "outputs": [],
      "source": [
        "# operating pressure : 80600 [Pa]\n\nsolver.setup.general.operating_conditions.operating_pressure = 80600"
      ]
    },
    {
      "cell_type": "markdown",
      "metadata": {},
      "source": [
        "## Initialize flow field\nInitialize the flow field using hybrid initialization.\n\n"
      ]
    },
    {
      "cell_type": "code",
      "execution_count": null,
      "metadata": {
        "collapsed": false
      },
      "outputs": [],
      "source": [
        "solver.solution.initialization.hybrid_initialize()"
      ]
    },
    {
      "cell_type": "markdown",
      "metadata": {},
      "source": [
        "## Save case file\nSolve the case file (``external_compressible1.cas.h5``).\n\n"
      ]
    },
    {
      "cell_type": "code",
      "execution_count": null,
      "metadata": {
        "collapsed": false
      },
      "outputs": [],
      "source": [
        "solver.file.write(file_name=\"external_compressible.cas.h5\", file_type=\"case\")"
      ]
    },
    {
      "cell_type": "markdown",
      "metadata": {},
      "source": [
        "## Solve for 25 iterations\nSolve for 25 iterations (100 iterations is recommended, however for this example 25 is sufficient).\n\n"
      ]
    },
    {
      "cell_type": "code",
      "execution_count": null,
      "metadata": {
        "collapsed": false
      },
      "outputs": [],
      "source": [
        "solver.solution.run_calculation.iterate(iter_count=25)"
      ]
    },
    {
      "cell_type": "markdown",
      "metadata": {},
      "source": [
        "## Write final case file and data\nWrite the final case file and the data.\n\n"
      ]
    },
    {
      "cell_type": "code",
      "execution_count": null,
      "metadata": {
        "collapsed": false
      },
      "outputs": [],
      "source": [
        "solver.file.write(file_name=\"external_compressible1.cas.h5\", file_type=\"case\")"
      ]
    },
    {
      "cell_type": "markdown",
      "metadata": {},
      "source": [
        "## Close Fluent\nClose Fluent.\n\n"
      ]
    },
    {
      "cell_type": "code",
      "execution_count": null,
      "metadata": {
        "collapsed": false
      },
      "outputs": [],
      "source": [
        "solver.exit()"
      ]
    }
  ],
  "metadata": {
    "kernelspec": {
      "display_name": "Python 3",
      "language": "python",
      "name": "python3"
    },
    "language_info": {
      "codemirror_mode": {
        "name": "ipython",
        "version": 3
      },
      "file_extension": ".py",
      "mimetype": "text/x-python",
      "name": "python",
      "nbconvert_exporter": "python",
      "pygments_lexer": "ipython3",
      "version": "3.10.9"
    }
  },
  "nbformat": 4,
  "nbformat_minor": 0
}