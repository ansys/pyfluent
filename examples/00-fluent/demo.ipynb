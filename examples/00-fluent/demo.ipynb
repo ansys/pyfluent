{
 "cells": [
  {
   "cell_type": "code",
   "execution_count": null,
   "id": "61bc218e-0764-4d60-af2f-14251ca8dda5",
   "metadata": {},
   "outputs": [],
   "source": [
    "import ansys.fluent as pyfluent\n",
    "pyfluent.set_log_level('DEBUG')"
   ]
  },
  {
   "cell_type": "code",
   "execution_count": null,
   "id": "69e8b40f-aa4d-432a-af7f-6121ed1f654f",
   "metadata": {},
   "outputs": [],
   "source": [
    "session = pyfluent.launch_fluent()"
   ]
  },
  {
   "cell_type": "code",
   "execution_count": null,
   "id": "1ae781fb-13a0-420f-937b-ff630fa54e9c",
   "metadata": {},
   "outputs": [],
   "source": [
    "session.check_health()"
   ]
  },
  {
   "cell_type": "code",
   "execution_count": null,
   "id": "71c0ed13-e60c-43d4-b469-8c84acf7fa8c",
   "metadata": {},
   "outputs": [],
   "source": [
    "session.tui.solver.file.read_case(case_file_name='elbow.cas.gz')"
   ]
  },
  {
   "cell_type": "code",
   "execution_count": null,
   "id": "21b9b61c-4f8f-4a86-aa60-c2d30462254c",
   "metadata": {},
   "outputs": [],
   "source": [
    "session.tui.solver.solve.initialize.initialize_flow()"
   ]
  },
  {
   "cell_type": "code",
   "execution_count": null,
   "id": "69f768ca-0f91-4265-b994-aca20a85e308",
   "metadata": {},
   "outputs": [],
   "source": [
    "session.tui.solver.solve.iterate(10)"
   ]
  },
  {
   "cell_type": "code",
   "execution_count": null,
   "id": "00c733fe-5dfb-48a9-85bc-de35e9afd987",
   "metadata": {},
   "outputs": [],
   "source": [
    "session.tui.solver.display.objects.contour['contour-1'] = {'boundary_values': True, 'color_map': {'color': 'field-velocity', 'font_automatic': True, 'font_name': 'Helvetica', 'font_size': 0.032, 'format': '%0.2e', 'length': 0.54, 'log_scale': False, 'position': 1, 'show_all': True, 'size': 100, 'user_skip': 9, 'visible': True, 'width': 6.0}, 'coloring': {'smooth': False}, 'contour_lines': False, 'display_state_name': 'None', 'draw_mesh': False, 'field': 'pressure', 'filled': True, 'mesh_object': '', 'node_values': True, 'range_option': {'auto_range_on': {'global_range': True}}, 'surfaces_list': [2, 4]}"
   ]
  },
  {
   "cell_type": "code",
   "execution_count": null,
   "id": "b0e8faf8-db63-4654-a88c-8e721cffcc5b",
   "metadata": {},
   "outputs": [],
   "source": [
    "session.tui.solver.display.objects.display('contour-1')"
   ]
  },
  {
   "cell_type": "code",
   "execution_count": null,
   "id": "ff27a040-d3ef-4b1d-9a47-345ed4d43c44",
   "metadata": {},
   "outputs": [],
   "source": [
    "session.tui.solver.display.save_picture(\"contour.png\")"
   ]
  },
  {
   "cell_type": "code",
   "execution_count": null,
   "id": "205b3547-e063-44a3-8fdb-18dd57430243",
   "metadata": {},
   "outputs": [],
   "source": [
    "session.setup_settings_objects()"
   ]
  },
  {
   "cell_type": "code",
   "execution_count": null,
   "id": "be5dd166-7dc4-48f8-9c81-33eae0fff274",
   "metadata": {},
   "outputs": [],
   "source": [
    "session.setup.models.energy.enabled = False"
   ]
  },
  {
   "cell_type": "code",
   "execution_count": null,
   "id": "49c99226-9c6d-46c0-b820-ae7419ac7e44",
   "metadata": {},
   "outputs": [],
   "source": [
    "session.tui.solver.define.models.energy(\"yes\", \"no\", \"no\", \"no\", \"yes\")"
   ]
  },
  {
   "cell_type": "code",
   "execution_count": null,
   "id": "31d80f04-c318-4f8c-ba50-7ed1886bfeed",
   "metadata": {},
   "outputs": [],
   "source": [
    "print (session.setup.models.energy())"
   ]
  },
  {
   "cell_type": "code",
   "execution_count": null,
   "id": "24a96795-595f-42f1-8002-f45168807afa",
   "metadata": {},
   "outputs": [],
   "source": [
    "session.setup.boundary_conditions.velocity_inlet['inlet2'].vmag = {\n",
    "    'option' : 'constant or expression',\n",
    "    'constant' : 1.2\n",
    "    }"
   ]
  },
  {
   "cell_type": "code",
   "execution_count": null,
   "id": "90b24450-0f27-4a4f-94c8-e877f101f3d5",
   "metadata": {},
   "outputs": [],
   "source": [
    "session.solution.initialization.standard_initialize()"
   ]
  }
 ],
 "metadata": {
  "kernelspec": {
   "display_name": "Python 3 (ipykernel)",
   "language": "python",
   "name": "python3"
  },
  "language_info": {
   "codemirror_mode": {
    "name": "ipython",
    "version": 3
   },
   "file_extension": ".py",
   "mimetype": "text/x-python",
   "name": "python",
   "nbconvert_exporter": "python",
   "pygments_lexer": "ipython3",
   "version": "3.10.2"
  }
 },
 "nbformat": 4,
 "nbformat_minor": 5
}
