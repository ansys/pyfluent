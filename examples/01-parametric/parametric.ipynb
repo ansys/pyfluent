{
 "cells": [
  {
   "cell_type": "code",
   "execution_count": null,
   "id": "f6bf1b61-af7e-419a-b0ce-208baa029c75",
   "metadata": {},
   "outputs": [],
   "source": [
    "from ansys.fluent.addons.parametric import ParametricSession"
   ]
  },
  {
   "cell_type": "code",
   "execution_count": null,
   "id": "58b8342f-1cc6-4749-9cc3-dbce244edc73",
   "metadata": {},
   "outputs": [],
   "source": [
    "# Parametric session starting with a case file\n",
    "\n",
    "session1 = ParametricSession(case_filepath=\"elbow_params_2.cas.h5\", start_transcript=True)"
   ]
  },
  {
   "cell_type": "code",
   "execution_count": null,
   "id": "d734eb9b-4c47-418a-99ef-987c3913ea89",
   "metadata": {},
   "outputs": [],
   "source": [
    "study1 = session1.studies['elbow_params_2-Solve']"
   ]
  },
  {
   "cell_type": "code",
   "execution_count": null,
   "id": "b35e464f-3401-44f7-8b1b-ae79a7155135",
   "metadata": {},
   "outputs": [],
   "source": [
    "session1.studies"
   ]
  },
  {
   "cell_type": "code",
   "execution_count": null,
   "id": "1ac32817-84f5-4a1e-b46a-811316140a9a",
   "metadata": {},
   "outputs": [],
   "source": [
    "# Create a new study\n",
    "\n",
    "study2 = session1.new_study()"
   ]
  },
  {
   "cell_type": "code",
   "execution_count": null,
   "id": "7359c482-b8ec-4099-a005-0b13e058cd3c",
   "metadata": {},
   "outputs": [],
   "source": [
    "# Get input parameters\n",
    "\n",
    "ip = study2.design_points['Base DP'].input_parameters"
   ]
  },
  {
   "cell_type": "code",
   "execution_count": null,
   "id": "51f04447-3b85-4de5-8e64-0d333dcd5c8e",
   "metadata": {},
   "outputs": [],
   "source": [
    "ip"
   ]
  },
  {
   "cell_type": "code",
   "execution_count": null,
   "id": "54231172-164d-412a-8add-4cc489d789af",
   "metadata": {},
   "outputs": [],
   "source": [
    "ip['parameter_2'] = 1.3"
   ]
  },
  {
   "cell_type": "code",
   "execution_count": null,
   "id": "40756a2a-e01c-4be7-81ae-a979cd3ce9a9",
   "metadata": {},
   "outputs": [],
   "source": [
    "study2.design_points[\"Base DP\"].input_parameters = ip"
   ]
  },
  {
   "cell_type": "code",
   "execution_count": null,
   "id": "9677a35c-d223-47f6-aed0-fc110c6bc085",
   "metadata": {},
   "outputs": [],
   "source": [
    "# Update current design point\n",
    "\n",
    "study2.update_current_design_point()"
   ]
  },
  {
   "cell_type": "code",
   "execution_count": null,
   "id": "6618a654-fb2a-458c-8455-1fc561ec3819",
   "metadata": {},
   "outputs": [],
   "source": [
    "# Get output parameters\n",
    "\n",
    "study2.design_points[\"Base DP\"].output_parameters"
   ]
  },
  {
   "cell_type": "code",
   "execution_count": null,
   "id": "95e60f15-495e-46e6-a7a1-d01c44f3b848",
   "metadata": {},
   "outputs": [],
   "source": [
    "dp1 = study2.add_design_point()\n",
    "dp2 = study2.duplicate_design_point(dp1)"
   ]
  },
  {
   "cell_type": "code",
   "execution_count": null,
   "id": "9488704d-bc6f-473a-b2c2-cd2db925070f",
   "metadata": {},
   "outputs": [],
   "source": [
    "study2.delete_design_points([dp1, dp2])"
   ]
  },
  {
   "cell_type": "code",
   "execution_count": null,
   "id": "e2533353-9664-457b-a848-dc3fa4d698da",
   "metadata": {},
   "outputs": [],
   "source": [
    "session1.project.save_as(\"abc.flprj\")"
   ]
  },
  {
   "cell_type": "code",
   "execution_count": null,
   "id": "0b5781bd-dd7a-4b95-b80d-7a4efd79fefb",
   "metadata": {},
   "outputs": [],
   "source": [
    "# Parametric session starting with a project file\n",
    "\n",
    "session2 = ParametricSession(project_filepath=\"abc.flprj\", start_transcript=True)"
   ]
  },
  {
   "cell_type": "code",
   "execution_count": null,
   "id": "35d3dc02-cb55-4847-a740-7106188d672a",
   "metadata": {},
   "outputs": [],
   "source": []
  }
 ],
 "metadata": {
  "kernelspec": {
   "display_name": "Python 3 (ipykernel)",
   "language": "python",
   "name": "python3"
  },
  "language_info": {
   "codemirror_mode": {
    "name": "ipython",
    "version": 3
   },
   "file_extension": ".py",
   "mimetype": "text/x-python",
   "name": "python",
   "nbconvert_exporter": "python",
   "pygments_lexer": "ipython3",
   "version": "3.10.2"
  }
 },
 "nbformat": 4,
 "nbformat_minor": 5
}
