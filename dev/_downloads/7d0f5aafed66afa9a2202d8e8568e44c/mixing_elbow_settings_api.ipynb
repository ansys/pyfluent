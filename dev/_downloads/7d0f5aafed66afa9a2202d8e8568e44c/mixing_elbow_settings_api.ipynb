{
  "cells": [
    {
      "cell_type": "code",
      "execution_count": null,
      "metadata": {
        "collapsed": false
      },
      "outputs": [],
      "source": [
        "%matplotlib inline"
      ]
    },
    {
      "cell_type": "markdown",
      "metadata": {},
      "source": [
        "\n# Fluent setup and solution using settings objects\nThis example sets up and solves a three-dimensional turbulent fluid flow\nand heat transfer problem in a mixing elbow, which is common in piping\nsystems in power plants and process industries. Predicting the flow field\nand temperature field in the area of the mixing region is important to\ndesigning the junction properly.\n\nThis example uses settings objects.\n\n**Problem description**\n\nA cold fluid at 20 deg C flows into the pipe through a large inlet. It then mixes\nwith a warmer fluid at 40 deg C that enters through a smaller inlet located at\nthe elbow. The pipe dimensions are in inches, and the fluid properties and\nboundary conditions are given in SI units. Because the Reynolds number for the\nflow at the larger inlet is ``50, 800``, a turbulent flow model is required.\n"
      ]
    },
    {
      "cell_type": "code",
      "execution_count": null,
      "metadata": {
        "collapsed": false
      },
      "outputs": [],
      "source": [
        "# sphinx_gallery_thumbnail_path = '_static/mixing_elbow_settings.png'"
      ]
    },
    {
      "cell_type": "markdown",
      "metadata": {},
      "source": [
        "## Perform required imports\nPerform required imports, which includes downloading and importing\nthe geometry file.\n\n"
      ]
    },
    {
      "cell_type": "code",
      "execution_count": null,
      "metadata": {
        "collapsed": false
      },
      "outputs": [],
      "source": [
        "import ansys.fluent.core as pyfluent\nfrom ansys.fluent.core import examples\n\nimport_filename = examples.download_file(\"mixing_elbow.msh.h5\", \"pyfluent/mixing_elbow\")"
      ]
    },
    {
      "cell_type": "markdown",
      "metadata": {},
      "source": [
        "## Launch Fluent\nLaunch Fluent as a service in meshing mode with double precision running on\ntwo processors.\n\n"
      ]
    },
    {
      "cell_type": "code",
      "execution_count": null,
      "metadata": {
        "collapsed": false
      },
      "outputs": [],
      "source": [
        "solver = pyfluent.launch_fluent(precision=\"double\", processor_count=2, mode=\"solver\")"
      ]
    },
    {
      "cell_type": "markdown",
      "metadata": {},
      "source": [
        "## Import mesh and perform mesh check\nImport the mesh and perform a mesh check, which lists the minimum and maximum\nx, y, and z values from the mesh in the default SI units of meters. The mesh\ncheck also reports a number of other mesh features that are checked. Any errors\nin the mesh are reported. Ensure that the minimum volume is not negative because\nFluent cannot begin a calculation when this is the case.\n\n"
      ]
    },
    {
      "cell_type": "code",
      "execution_count": null,
      "metadata": {
        "collapsed": false
      },
      "outputs": [],
      "source": [
        "solver.file.read(file_type=\"case\", file_name=import_filename)\nsolver.tui.mesh.check()"
      ]
    },
    {
      "cell_type": "markdown",
      "metadata": {},
      "source": [
        "## Set working units for mesh\nSet the working units for the mesh to inches. Because the default SI units are\nused for everything except length, you do not have to change any other units\nin this example. If you want working units for length to be other than inches\n(for example, millimeters), make the appropriate change.\n\n"
      ]
    },
    {
      "cell_type": "code",
      "execution_count": null,
      "metadata": {
        "collapsed": false
      },
      "outputs": [],
      "source": [
        "solver.tui.define.units(\"length\", \"in\")"
      ]
    },
    {
      "cell_type": "markdown",
      "metadata": {},
      "source": [
        "## Enable heat transfer\nEnable heat transfer by activating the energy equation.\n\n"
      ]
    },
    {
      "cell_type": "code",
      "execution_count": null,
      "metadata": {
        "collapsed": false
      },
      "outputs": [],
      "source": [
        "solver.setup.models.energy.enabled = True"
      ]
    },
    {
      "cell_type": "markdown",
      "metadata": {},
      "source": [
        "## Create material\nCreate a material named ``\"water-liquid\"``.\n\n"
      ]
    },
    {
      "cell_type": "code",
      "execution_count": null,
      "metadata": {
        "collapsed": false
      },
      "outputs": [],
      "source": [
        "if solver.get_fluent_version() == \"22.2.0\":\n    solver.setup.materials.copy_database_material_by_name(\n        type=\"fluid\", name=\"water-liquid\"\n    )\nelse:\n    solver.setup.materials.database.copy_by_name(type=\"fluid\", name=\"water-liquid\")"
      ]
    },
    {
      "cell_type": "markdown",
      "metadata": {},
      "source": [
        "## Set up cell zone conditions\nSet up the cell zone conditions for the fluid zone (``elbow-fluid``). Set ``material``\nto ``\"water-liquid\"``.\n\n"
      ]
    },
    {
      "cell_type": "code",
      "execution_count": null,
      "metadata": {
        "collapsed": false
      },
      "outputs": [],
      "source": [
        "solver.setup.cell_zone_conditions.fluid[\"elbow-fluid\"].material = \"water-liquid\""
      ]
    },
    {
      "cell_type": "markdown",
      "metadata": {},
      "source": [
        "## Set up boundary conditions for CFD analysis\nSet up the boundary conditions for the inlets, outlet, and walls for CFD\nanalysis.\n\n"
      ]
    },
    {
      "cell_type": "code",
      "execution_count": null,
      "metadata": {
        "collapsed": false
      },
      "outputs": [],
      "source": [
        "# cold inlet (cold-inlet), Setting: Value:\n# Velocity Specification Method: Magnitude, Normal to Boundary\n# Velocity Magnitude: 0.4 [m/s]\n# Specification Method: Intensity and Hydraulic Diameter\n# Turbulent Intensity: 5 [%]\n# Hydraulic Diameter: 4 [inch]\n# Temperature: 293.15 [K]\n\nif solver.get_fluent_version() == \"22.2.0\":\n    solver.setup.boundary_conditions.velocity_inlet[\"cold-inlet\"].vmag = {\n        \"option\": \"constant or expression\",\n        \"constant\": 0.4,\n    }\nelse:\n    solver.setup.boundary_conditions.velocity_inlet[\"cold-inlet\"].vmag = 0.4\nsolver.setup.boundary_conditions.velocity_inlet[\n    \"cold-inlet\"\n].ke_spec = \"Intensity and Hydraulic Diameter\"\nsolver.setup.boundary_conditions.velocity_inlet[\"cold-inlet\"].turb_intensity = 0.05\nsolver.setup.boundary_conditions.velocity_inlet[\n    \"cold-inlet\"\n].turb_hydraulic_diam = \"4 [in]\"\nif solver.get_fluent_version() == \"22.2.0\":\n    solver.setup.boundary_conditions.velocity_inlet[\"cold-inlet\"].t = {\n        \"option\": \"constant or expression\",\n        \"constant\": 293.15,\n    }\nelse:\n    solver.setup.boundary_conditions.velocity_inlet[\"cold-inlet\"].t = 293.15\n\n# hot inlet (hot-inlet), Setting: Value:\n# Velocity Specification Method: Magnitude, Normal to Boundary\n# Velocity Magnitude: 1.2 [m/s]\n# Specification Method: Intensity and Hydraulic Diameter\n# Turbulent Intensity: 5 [%]\n# Hydraulic Diameter: 1 [inch]\n# Temperature: 313.15 [K]\n\nif solver.get_fluent_version() == \"22.2.0\":\n    solver.setup.boundary_conditions.velocity_inlet[\"hot-inlet\"].vmag = {\n        \"option\": \"constant or expression\",\n        \"constant\": 1.2,\n    }\nelse:\n    solver.setup.boundary_conditions.velocity_inlet[\"hot-inlet\"].vmag = 1.2\nsolver.setup.boundary_conditions.velocity_inlet[\n    \"hot-inlet\"\n].ke_spec = \"Intensity and Hydraulic Diameter\"\nsolver.setup.boundary_conditions.velocity_inlet[\n    \"hot-inlet\"\n].turb_hydraulic_diam = \"1 [in]\"\nif solver.get_fluent_version() == \"22.2.0\":\n    solver.setup.boundary_conditions.velocity_inlet[\"hot-inlet\"].t = {\n        \"option\": \"constant or expression\",\n        \"constant\": 313.15,\n    }\nelse:\n    solver.setup.boundary_conditions.velocity_inlet[\"hot-inlet\"].t = 313.15\n\n# pressure outlet (outlet), Setting: Value:\n# Backflow Turbulent Intensity: 5 [%]\n# Backflow Turbulent Viscosity Ratio: 4\n\nsolver.setup.boundary_conditions.pressure_outlet[\"outlet\"].turb_viscosity_ratio = 4"
      ]
    },
    {
      "cell_type": "markdown",
      "metadata": {},
      "source": [
        "## Disable plotting of residuals during calculation\nDisable plotting of residuals during the calculation.\n\n"
      ]
    },
    {
      "cell_type": "code",
      "execution_count": null,
      "metadata": {
        "collapsed": false
      },
      "outputs": [],
      "source": [
        "solver.tui.solve.monitors.residual.plot(\"no\")"
      ]
    },
    {
      "cell_type": "markdown",
      "metadata": {},
      "source": [
        "## Initialize flow field\nInitialize the flow field using hybrid initialization.\n\n"
      ]
    },
    {
      "cell_type": "code",
      "execution_count": null,
      "metadata": {
        "collapsed": false
      },
      "outputs": [],
      "source": [
        "solver.solution.initialization.hybrid_initialize()"
      ]
    },
    {
      "cell_type": "markdown",
      "metadata": {},
      "source": [
        "## Solve for 150 iterations\nSolve for 150 iterations.\n\n"
      ]
    },
    {
      "cell_type": "code",
      "execution_count": null,
      "metadata": {
        "collapsed": false
      },
      "outputs": [],
      "source": [
        "solver.solution.run_calculation.iterate.get_attr(\"arguments\")\nif solver.get_fluent_version() >= \"23.1.0\":\n    solver.solution.run_calculation.iterate(iter_count=150)\nelse:\n    solver.solution.run_calculation.iterate(number_of_iterations=150)"
      ]
    },
    {
      "cell_type": "markdown",
      "metadata": {},
      "source": [
        "## Create velocity vectors\nCreate and display velocity vectors on the ``symmetry-xyplane`` plane.\n\n"
      ]
    },
    {
      "cell_type": "code",
      "execution_count": null,
      "metadata": {
        "collapsed": false
      },
      "outputs": [],
      "source": [
        "solver.results.graphics.vector[\"velocity_vector_symmetry\"] = {}\nsolver.results.graphics.vector[\"velocity_vector_symmetry\"].print_state()\nsolver.results.graphics.vector[\"velocity_vector_symmetry\"].field = \"temperature\"\nsolver.results.graphics.vector[\"velocity_vector_symmetry\"].surfaces_list = [\n    \"symmetry-xyplane\",\n]\nsolver.results.graphics.vector[\"velocity_vector_symmetry\"].scale.scale_f = 4\nsolver.results.graphics.vector[\"velocity_vector_symmetry\"].style = \"arrow\""
      ]
    },
    {
      "cell_type": "markdown",
      "metadata": {},
      "source": [
        "<img src=\"file://_static/mixing_elbow_016.png\" width=\"500pt\" align=\"center\">\n\n"
      ]
    },
    {
      "cell_type": "markdown",
      "metadata": {},
      "source": [
        "## Compute mass flow rate\nCompute the mass flow rate.\n\n"
      ]
    },
    {
      "cell_type": "code",
      "execution_count": null,
      "metadata": {
        "collapsed": false
      },
      "outputs": [],
      "source": [
        "solver.solution.report_definitions.flux[\"mass_flow_rate\"] = {}\nsolver.solution.report_definitions.flux[\"mass_flow_rate\"].zone_names.get_attr(\n    \"allowed-values\"\n)\nsolver.solution.report_definitions.flux[\"mass_flow_rate\"].zone_names = [\n    \"cold-inlet\",\n    \"hot-inlet\",\n    \"outlet\",\n]\nsolver.solution.report_definitions.flux[\"mass_flow_rate\"].print_state()\nsolver.solution.report_definitions.compute(report_defs=[\"mass_flow_rate\"])"
      ]
    },
    {
      "cell_type": "markdown",
      "metadata": {},
      "source": [
        "## Close Fluent\nClose Fluent.\n\n"
      ]
    },
    {
      "cell_type": "code",
      "execution_count": null,
      "metadata": {
        "collapsed": false
      },
      "outputs": [],
      "source": [
        "solver.exit()"
      ]
    }
  ],
  "metadata": {
    "kernelspec": {
      "display_name": "Python 3",
      "language": "python",
      "name": "python3"
    },
    "language_info": {
      "codemirror_mode": {
        "name": "ipython",
        "version": 3
      },
      "file_extension": ".py",
      "mimetype": "text/x-python",
      "name": "python",
      "nbconvert_exporter": "python",
      "pygments_lexer": "ipython3",
      "version": "3.9.12"
    }
  },
  "nbformat": 4,
  "nbformat_minor": 0
}