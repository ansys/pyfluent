{
  "cells": [
    {
      "cell_type": "code",
      "execution_count": null,
      "metadata": {
        "collapsed": false
      },
      "outputs": [],
      "source": [
        "%matplotlib inline"
      ]
    },
    {
      "cell_type": "markdown",
      "metadata": {},
      "source": [
        "\n# Fault-tolerant meshing workflow\nThis example sets up and solves a three-dimensional turbulent fluid flow\nin a manifold exhaust system, which is common in the automotive industry.\nPredicting the flow field in the area of the mixing region is important\nto designing the junction properly.\n\nThis example uses the guided workflow for fault-tolerant meshing because it\nis appropriate for geometries that can have imperfections, such as gaps and\nleakages.\n\n**Workflow tasks**\n\nThe fault-tolerant meshing workflow guides you through these tasks:\n\n- Import a CAD geometry and manage individual parts\n- Generate a surface mesh\n- Cap inlets and outlets\n- Extract a fluid region\n- Define leakages\n- Extract edge features\n- Set up size controls\n- Generate a volume mesh\n\n**Problem description**\n\nIn the manifold exhaust system, air flows through the three inlets\nwith a uniform velocity of 1 m/s. The air then exits through the outlet.\nA small pipe is placed in the main portion of the manifold where edge\nextraction is considered. The example also includes a known small leakage\nto demonstrate the automatic leakage detection aspects of the meshing workflow.\n"
      ]
    },
    {
      "cell_type": "code",
      "execution_count": null,
      "metadata": {
        "collapsed": false
      },
      "outputs": [],
      "source": [
        "# sphinx_gallery_thumbnail_path = '_static/exhaust_system.png'"
      ]
    },
    {
      "cell_type": "markdown",
      "metadata": {},
      "source": [
        "# Example Setup\nBefore you can use the fault-tolerant meshing workflow, you must set up the\nexample and initialize this workflow.\n\n## Perform required imports\nPerform required imports, which includes downloading and importing\nthe geometry file.\n\n"
      ]
    },
    {
      "cell_type": "code",
      "execution_count": null,
      "metadata": {
        "collapsed": false
      },
      "outputs": [],
      "source": [
        "import ansys.fluent.core as pyfluent\nfrom ansys.fluent.core import examples\n\nimport_filename = examples.download_file(\n    \"exhaust_system.fmd\", \"pyfluent/exhaust_system\"\n)"
      ]
    },
    {
      "cell_type": "markdown",
      "metadata": {},
      "source": [
        "## Launch Fluent\nLaunch Fluent as a service in meshing mode with double precision running on\ntwo processors.\n\n"
      ]
    },
    {
      "cell_type": "code",
      "execution_count": null,
      "metadata": {
        "collapsed": false
      },
      "outputs": [],
      "source": [
        "meshing = pyfluent.launch_fluent(precision=\"double\", processor_count=2, mode=\"meshing\")"
      ]
    },
    {
      "cell_type": "markdown",
      "metadata": {},
      "source": [
        "## Initialize workflow\nInitialize the fault-tolerant meshing workflow.\n\n"
      ]
    },
    {
      "cell_type": "code",
      "execution_count": null,
      "metadata": {
        "collapsed": false
      },
      "outputs": [],
      "source": [
        "meshing.workflow.InitializeWorkflow(WorkflowType=\"Fault-tolerant Meshing\")"
      ]
    },
    {
      "cell_type": "markdown",
      "metadata": {},
      "source": [
        "# Fault-folerant meshing workflow\nThe fault-tolerant meshing workflow guides you through the many tasks that\nfollow.\n\n## Import CAD and manage parts\nImport the CAD geometry file (``exhaust_system.fmd``) and selectively manage some\nparts.\n\n"
      ]
    },
    {
      "cell_type": "code",
      "execution_count": null,
      "metadata": {
        "collapsed": false
      },
      "outputs": [],
      "source": [
        "meshing.PartManagement.InputFileChanged(\n    FilePath=import_filename, IgnoreSolidNames=False, PartPerBody=False\n)\nmeshing.PMFileManagement.FileManager.LoadFiles()\nmeshing.PartManagement.Node[\"Meshing Model\"].Copy(\n    Paths=[\n        \"/dirty_manifold-for-wrapper,\" + \"1/dirty_manifold-for-wrapper,1/main,1\",\n        \"/dirty_manifold-for-wrapper,\" + \"1/dirty_manifold-for-wrapper,1/flow-pipe,1\",\n        \"/dirty_manifold-for-wrapper,\" + \"1/dirty_manifold-for-wrapper,1/outpipe3,1\",\n        \"/dirty_manifold-for-wrapper,\" + \"1/dirty_manifold-for-wrapper,1/object2,1\",\n        \"/dirty_manifold-for-wrapper,\" + \"1/dirty_manifold-for-wrapper,1/object1,1\",\n    ]\n)\nmeshing.PartManagement.ObjectSetting[\"DefaultObjectSetting\"].OneZonePer.set_state(\n    \"part\"\n)\nmeshing.workflow.TaskObject[\"Import CAD and Part Management\"].Arguments.set_state(\n    {\n        \"Context\": 0,\n        \"CreateObjectPer\": \"Custom\",\n        \"FMDFileName\": import_filename,\n        \"FileLoaded\": \"yes\",\n        \"ObjectSetting\": \"DefaultObjectSetting\",\n        \"Options\": {\n            \"Line\": False,\n            \"Solid\": False,\n            \"Surface\": False,\n        },\n    }\n)\nmeshing.workflow.TaskObject[\"Import CAD and Part Management\"].Execute()"
      ]
    },
    {
      "cell_type": "markdown",
      "metadata": {},
      "source": [
        "## Describe geometry and flow\nDescribe the geometry and the flow characteristics.\n\n"
      ]
    },
    {
      "cell_type": "code",
      "execution_count": null,
      "metadata": {
        "collapsed": false
      },
      "outputs": [],
      "source": [
        "meshing.workflow.TaskObject[\"Describe Geometry and Flow\"].Arguments.set_state(\n    {\n        \"AddEnclosure\": \"No\",\n        \"CloseCaps\": \"Yes\",\n        \"FlowType\": \"Internal flow through the object\",\n    }\n)\nmeshing.workflow.TaskObject[\"Describe Geometry and Flow\"].UpdateChildTasks(\n    SetupTypeChanged=False\n)\nmeshing.workflow.TaskObject[\"Describe Geometry and Flow\"].Arguments.set_state(\n    {\n        \"AddEnclosure\": \"No\",\n        \"CloseCaps\": \"Yes\",\n        \"DescribeGeometryAndFlowOptions\": {\n            \"AdvancedOptions\": True,\n            \"ExtractEdgeFeatures\": \"Yes\",\n        },\n        \"FlowType\": \"Internal flow through the object\",\n    }\n)\nmeshing.workflow.TaskObject[\"Describe Geometry and Flow\"].UpdateChildTasks(\n    SetupTypeChanged=False\n)\nmeshing.workflow.TaskObject[\"Describe Geometry and Flow\"].Execute()"
      ]
    },
    {
      "cell_type": "markdown",
      "metadata": {},
      "source": [
        "## Enclose openings\nEnclose (cap) any openings in the geometry.\n\n"
      ]
    },
    {
      "cell_type": "markdown",
      "metadata": {},
      "source": [
        "<img src=\"file://_static/exhaust_system_011.png\" width=\"400pt\" align=\"center\">\n\n"
      ]
    },
    {
      "cell_type": "markdown",
      "metadata": {},
      "source": [
        "<img src=\"file://_static/exhaust_system_012.png\" width=\"400pt\" align=\"center\">\n\n"
      ]
    },
    {
      "cell_type": "code",
      "execution_count": null,
      "metadata": {
        "collapsed": false
      },
      "outputs": [],
      "source": [
        "meshing.workflow.TaskObject[\"Enclose Fluid Regions (Capping)\"].Arguments.set_state(\n    {\n        \"CreatePatchPreferences\": {\n            \"ShowCreatePatchPreferences\": False,\n        },\n        \"PatchName\": \"inlet-1\",\n        \"SelectionType\": \"zone\",\n        \"ZoneSelectionList\": [\"inlet.1\"],\n    }\n)\nmeshing.workflow.TaskObject[\"Enclose Fluid Regions (Capping)\"].Arguments.set_state(\n    {\n        \"CreatePatchPreferences\": {\n            \"ShowCreatePatchPreferences\": False,\n        },\n        \"PatchName\": \"inlet-1\",\n        \"SelectionType\": \"zone\",\n        \"ZoneLocation\": [\n            \"1\",\n            \"351.68205\",\n            \"-361.34322\",\n            \"-301.88668\",\n            \"396.96205\",\n            \"-332.84759\",\n            \"-266.69751\",\n            \"inlet.1\",\n        ],\n        \"ZoneSelectionList\": [\"inlet.1\"],\n    }\n)\nmeshing.workflow.TaskObject[\"Enclose Fluid Regions (Capping)\"].AddChildToTask()\n\nmeshing.workflow.TaskObject[\"Enclose Fluid Regions (Capping)\"].InsertCompoundChildTask()\nmeshing.workflow.TaskObject[\"Enclose Fluid Regions (Capping)\"].Arguments.set_state({})\nmeshing.workflow.TaskObject[\"inlet-1\"].Execute()\nmeshing.workflow.TaskObject[\"Enclose Fluid Regions (Capping)\"].Arguments.set_state(\n    {\n        \"PatchName\": \"inlet-2\",\n        \"SelectionType\": \"zone\",\n        \"ZoneSelectionList\": [\"inlet.2\"],\n    }\n)\nmeshing.workflow.TaskObject[\"Enclose Fluid Regions (Capping)\"].Arguments.set_state(\n    {\n        \"PatchName\": \"inlet-2\",\n        \"SelectionType\": \"zone\",\n        \"ZoneLocation\": [\n            \"1\",\n            \"441.68205\",\n            \"-361.34322\",\n            \"-301.88668\",\n            \"486.96205\",\n            \"-332.84759\",\n            \"-266.69751\",\n            \"inlet.2\",\n        ],\n        \"ZoneSelectionList\": [\"inlet.2\"],\n    }\n)\nmeshing.workflow.TaskObject[\"Enclose Fluid Regions (Capping)\"].AddChildToTask()\n\nmeshing.workflow.TaskObject[\"Enclose Fluid Regions (Capping)\"].InsertCompoundChildTask()\nmeshing.workflow.TaskObject[\"Enclose Fluid Regions (Capping)\"].Arguments.set_state({})\nmeshing.workflow.TaskObject[\"inlet-2\"].Execute()\nmeshing.workflow.TaskObject[\"Enclose Fluid Regions (Capping)\"].Arguments.set_state(\n    {\n        \"PatchName\": \"inlet-3\",\n        \"SelectionType\": \"zone\",\n        \"ZoneSelectionList\": [\"inlet\"],\n    }\n)\nmeshing.workflow.TaskObject[\"Enclose Fluid Regions (Capping)\"].Arguments.set_state(\n    {\n        \"PatchName\": \"inlet-3\",\n        \"SelectionType\": \"zone\",\n        \"ZoneLocation\": [\n            \"1\",\n            \"261.68205\",\n            \"-361.34322\",\n            \"-301.88668\",\n            \"306.96205\",\n            \"-332.84759\",\n            \"-266.69751\",\n            \"inlet\",\n        ],\n        \"ZoneSelectionList\": [\"inlet\"],\n    }\n)\nmeshing.workflow.TaskObject[\"Enclose Fluid Regions (Capping)\"].AddChildToTask()\n\nmeshing.workflow.TaskObject[\"Enclose Fluid Regions (Capping)\"].InsertCompoundChildTask()\nmeshing.workflow.TaskObject[\"Enclose Fluid Regions (Capping)\"].Arguments.set_state({})\nmeshing.workflow.TaskObject[\"inlet-3\"].Execute()\nmeshing.workflow.TaskObject[\"Enclose Fluid Regions (Capping)\"].Arguments.set_state(\n    {\n        \"PatchName\": \"outlet-1\",\n        \"SelectionType\": \"zone\",\n        \"ZoneSelectionList\": [\"outlet\"],\n        \"ZoneType\": \"pressure-outlet\",\n    }\n)\nmeshing.workflow.TaskObject[\"Enclose Fluid Regions (Capping)\"].Arguments.set_state(\n    {\n        \"PatchName\": \"outlet-1\",\n        \"SelectionType\": \"zone\",\n        \"ZoneLocation\": [\n            \"1\",\n            \"352.22702\",\n            \"-197.8957\",\n            \"84.102381\",\n            \"394.41707\",\n            \"-155.70565\",\n            \"84.102381\",\n            \"outlet\",\n        ],\n        \"ZoneSelectionList\": [\"outlet\"],\n        \"ZoneType\": \"pressure-outlet\",\n    }\n)\nmeshing.workflow.TaskObject[\"Enclose Fluid Regions (Capping)\"].AddChildToTask()\n\nmeshing.workflow.TaskObject[\"Enclose Fluid Regions (Capping)\"].InsertCompoundChildTask()\nmeshing.workflow.TaskObject[\"Enclose Fluid Regions (Capping)\"].Arguments.set_state({})\nmeshing.workflow.TaskObject[\"outlet-1\"].Execute()"
      ]
    },
    {
      "cell_type": "markdown",
      "metadata": {},
      "source": [
        "## Extract edge features\nExtract edge features.\n\n"
      ]
    },
    {
      "cell_type": "code",
      "execution_count": null,
      "metadata": {
        "collapsed": false
      },
      "outputs": [],
      "source": [
        "meshing.workflow.TaskObject[\"Extract Edge Features\"].Arguments.set_state(\n    {\n        \"ExtractMethodType\": \"Intersection Loops\",\n        \"ObjectSelectionList\": [\"flow_pipe\", \"main\"],\n    }\n)\nmeshing.workflow.TaskObject[\"Extract Edge Features\"].AddChildToTask()\n\nmeshing.workflow.TaskObject[\"Extract Edge Features\"].InsertCompoundChildTask()\n\nmeshing.workflow.TaskObject[\"edge-group-1\"].Arguments.set_state(\n    {\n        \"ExtractEdgesName\": \"edge-group-1\",\n        \"ExtractMethodType\": \"Intersection Loops\",\n        \"ObjectSelectionList\": [\"flow_pipe\", \"main\"],\n    }\n)\nmeshing.workflow.TaskObject[\"Extract Edge Features\"].Arguments.set_state({})\n\nmeshing.workflow.TaskObject[\"edge-group-1\"].Execute()"
      ]
    },
    {
      "cell_type": "markdown",
      "metadata": {},
      "source": [
        "## Identify regions\nIdentify regions.\n\n"
      ]
    },
    {
      "cell_type": "code",
      "execution_count": null,
      "metadata": {
        "collapsed": false
      },
      "outputs": [],
      "source": [
        "meshing.workflow.TaskObject[\"Identify Regions\"].Arguments.set_state(\n    {\n        \"SelectionType\": \"zone\",\n        \"X\": 377.322045740589,\n        \"Y\": -176.800676988458,\n        \"Z\": -37.0764628583475,\n        \"ZoneSelectionList\": [\"main.1\"],\n    }\n)\nmeshing.workflow.TaskObject[\"Identify Regions\"].Arguments.set_state(\n    {\n        \"SelectionType\": \"zone\",\n        \"X\": 377.322045740589,\n        \"Y\": -176.800676988458,\n        \"Z\": -37.0764628583475,\n        \"ZoneLocation\": [\n            \"1\",\n            \"213.32205\",\n            \"-225.28068\",\n            \"-158.25531\",\n            \"541.32205\",\n            \"-128.32068\",\n            \"84.102381\",\n            \"main.1\",\n        ],\n        \"ZoneSelectionList\": [\"main.1\"],\n    }\n)\nmeshing.workflow.TaskObject[\"Identify Regions\"].AddChildToTask()\n\nmeshing.workflow.TaskObject[\"Identify Regions\"].InsertCompoundChildTask()\n\nmeshing.workflow.TaskObject[\"fluid-region-1\"].Arguments.set_state(\n    {\n        \"MaterialPointsName\": \"fluid-region-1\",\n        \"SelectionType\": \"zone\",\n        \"X\": 377.322045740589,\n        \"Y\": -176.800676988458,\n        \"Z\": -37.0764628583475,\n        \"ZoneLocation\": [\n            \"1\",\n            \"213.32205\",\n            \"-225.28068\",\n            \"-158.25531\",\n            \"541.32205\",\n            \"-128.32068\",\n            \"84.102381\",\n            \"main.1\",\n        ],\n        \"ZoneSelectionList\": [\"main.1\"],\n    }\n)\nmeshing.workflow.TaskObject[\"Identify Regions\"].Arguments.set_state({})\n\nmeshing.workflow.TaskObject[\"fluid-region-1\"].Execute()\nmeshing.workflow.TaskObject[\"Identify Regions\"].Arguments.set_state(\n    {\n        \"MaterialPointsName\": \"void-region-1\",\n        \"NewRegionType\": \"void\",\n        \"ObjectSelectionList\": [\"inlet-1\", \"inlet-2\", \"inlet-3\", \"main\"],\n        \"X\": 374.722045740589,\n        \"Y\": -278.9775145640143,\n        \"Z\": -161.1700719416913,\n    }\n)\nmeshing.workflow.TaskObject[\"Identify Regions\"].AddChildToTask()\n\nmeshing.workflow.TaskObject[\"Identify Regions\"].InsertCompoundChildTask()\n\nmeshing.workflow.TaskObject[\"Identify Regions\"].Arguments.set_state({})\n\nmeshing.workflow.TaskObject[\"void-region-1\"].Execute()"
      ]
    },
    {
      "cell_type": "markdown",
      "metadata": {},
      "source": [
        "## Define thresholds for leakages\nDefine thresholds for potential leakages.\n\n"
      ]
    },
    {
      "cell_type": "code",
      "execution_count": null,
      "metadata": {
        "collapsed": false
      },
      "outputs": [],
      "source": [
        "meshing.workflow.TaskObject[\"Define Leakage Threshold\"].Arguments.set_state(\n    {\n        \"AddChild\": \"yes\",\n        \"FlipDirection\": True,\n        \"PlaneDirection\": \"X\",\n        \"RegionSelectionSingle\": \"void-region-1\",\n    }\n)\nmeshing.workflow.TaskObject[\"Define Leakage Threshold\"].AddChildToTask()\n\nmeshing.workflow.TaskObject[\"Define Leakage Threshold\"].InsertCompoundChildTask()\nmeshing.workflow.TaskObject[\"leakage-1\"].Arguments.set_state(\n    {\n        \"AddChild\": \"yes\",\n        \"FlipDirection\": True,\n        \"LeakageName\": \"leakage-1\",\n        \"PlaneDirection\": \"X\",\n        \"RegionSelectionSingle\": \"void-region-1\",\n    }\n)\nmeshing.workflow.TaskObject[\"Define Leakage Threshold\"].Arguments.set_state(\n    {\n        \"AddChild\": \"yes\",\n    }\n)\nmeshing.workflow.TaskObject[\"leakage-1\"].Execute()"
      ]
    },
    {
      "cell_type": "markdown",
      "metadata": {},
      "source": [
        "## Review region settings\nReview the region settings.\n\n"
      ]
    },
    {
      "cell_type": "code",
      "execution_count": null,
      "metadata": {
        "collapsed": false
      },
      "outputs": [],
      "source": [
        "meshing.workflow.TaskObject[\"Update Region Settings\"].Arguments.set_state(\n    {\n        \"AllRegionFilterCategories\": [\"2\"] * 5 + [\"1\"] * 2,\n        \"AllRegionLeakageSizeList\": [\"none\"] * 6 + [\"6.4\"],\n        \"AllRegionLinkedConstructionSurfaceList\": [\"n/a\"] * 6 + [\"no\"],\n        \"AllRegionMeshMethodList\": [\"none\"] * 6 + [\"wrap\"],\n        \"AllRegionNameList\": [\n            \"main\",\n            \"flow_pipe\",\n            \"outpipe3\",\n            \"object2\",\n            \"object1\",\n            \"void-region-1\",\n            \"fluid-region-1\",\n        ],\n        \"AllRegionOversetComponenList\": [\"no\"] * 7,\n        \"AllRegionSourceList\": [\"object\"] * 5 + [\"mpt\"] * 2,\n        \"AllRegionTypeList\": [\"void\"] * 6 + [\"fluid\"],\n        \"AllRegionVolumeFillList\": [\"none\"] * 6 + [\"tet\"],\n        \"FilterCategory\": \"Identified Regions\",\n        \"OldRegionLeakageSizeList\": [\"\"],\n        \"OldRegionMeshMethodList\": [\"wrap\"],\n        \"OldRegionNameList\": [\"fluid-region-1\"],\n        \"OldRegionOversetComponenList\": [\"no\"],\n        \"OldRegionTypeList\": [\"fluid\"],\n        \"OldRegionVolumeFillList\": [\"hexcore\"],\n        \"RegionLeakageSizeList\": [\"\"],\n        \"RegionMeshMethodList\": [\"wrap\"],\n        \"RegionNameList\": [\"fluid-region-1\"],\n        \"RegionOversetComponenList\": [\"no\"],\n        \"RegionTypeList\": [\"fluid\"],\n        \"RegionVolumeFillList\": [\"tet\"],\n    }\n)\nmeshing.workflow.TaskObject[\"Update Region Settings\"].Execute()"
      ]
    },
    {
      "cell_type": "markdown",
      "metadata": {},
      "source": [
        "## Set mesh control options\nSet mesh control options.\n\n"
      ]
    },
    {
      "cell_type": "code",
      "execution_count": null,
      "metadata": {
        "collapsed": false
      },
      "outputs": [],
      "source": [
        "meshing.workflow.TaskObject[\"Choose Mesh Control Options\"].Execute()"
      ]
    },
    {
      "cell_type": "markdown",
      "metadata": {},
      "source": [
        "## Generate surface mesh\nGenerate the surface mesh.\n\n"
      ]
    },
    {
      "cell_type": "markdown",
      "metadata": {},
      "source": [
        "<img src=\"file://_static/exhaust_system_013.png\" width=\"500pt\" align=\"center\">\n\n"
      ]
    },
    {
      "cell_type": "code",
      "execution_count": null,
      "metadata": {
        "collapsed": false
      },
      "outputs": [],
      "source": [
        "meshing.workflow.TaskObject[\"Generate the Surface Mesh\"].Execute()"
      ]
    },
    {
      "cell_type": "markdown",
      "metadata": {},
      "source": [
        "## Confirm and update boundaries\nConfirm and update the boundaries.\n\n"
      ]
    },
    {
      "cell_type": "code",
      "execution_count": null,
      "metadata": {
        "collapsed": false
      },
      "outputs": [],
      "source": [
        "meshing.workflow.TaskObject[\"Update Boundaries\"].Execute()"
      ]
    },
    {
      "cell_type": "markdown",
      "metadata": {},
      "source": [
        "## Add boundary layers\nAdd boundary layers.\n\n"
      ]
    },
    {
      "cell_type": "code",
      "execution_count": null,
      "metadata": {
        "collapsed": false
      },
      "outputs": [],
      "source": [
        "meshing.workflow.TaskObject[\"Add Boundary Layers\"].AddChildToTask()\n\nmeshing.workflow.TaskObject[\"Add Boundary Layers\"].InsertCompoundChildTask()\n\nmeshing.workflow.TaskObject[\"aspect-ratio_1\"].Arguments.set_state(\n    {\n        \"BLControlName\": \"aspect-ratio_1\",\n    }\n)\nmeshing.workflow.TaskObject[\"Add Boundary Layers\"].Arguments.set_state({})\n\nmeshing.workflow.TaskObject[\"aspect-ratio_1\"].Execute()"
      ]
    },
    {
      "cell_type": "markdown",
      "metadata": {},
      "source": [
        "## Generate volume mesh\nGenerate the volume mesh.\n\n"
      ]
    },
    {
      "cell_type": "markdown",
      "metadata": {},
      "source": [
        "<img src=\"file://_static/exhaust_system_014.png\" width=\"500pt\" align=\"center\">\n\n"
      ]
    },
    {
      "cell_type": "code",
      "execution_count": null,
      "metadata": {
        "collapsed": false
      },
      "outputs": [],
      "source": [
        "meshing.workflow.TaskObject[\"Generate the Volume Mesh\"].Arguments.set_state(\n    {\n        \"AllRegionNameList\": [\n            \"main\",\n            \"flow_pipe\",\n            \"outpipe3\",\n            \"object2\",\n            \"object1\",\n            \"void-region-1\",\n            \"fluid-region-1\",\n        ],\n        \"AllRegionSizeList\": [\"11.33375\"] * 7,\n        \"AllRegionVolumeFillList\": [\"none\"] * 6 + [\"tet\"],\n        \"EnableParallel\": True,\n    }\n)\nmeshing.workflow.TaskObject[\"Generate the Volume Mesh\"].Execute()"
      ]
    },
    {
      "cell_type": "markdown",
      "metadata": {},
      "source": [
        "## Check mesh\nCheck the mesh.\n\n"
      ]
    },
    {
      "cell_type": "code",
      "execution_count": null,
      "metadata": {
        "collapsed": false
      },
      "outputs": [],
      "source": [
        "meshing.tui.mesh.check_mesh()"
      ]
    },
    {
      "cell_type": "markdown",
      "metadata": {},
      "source": [
        "# Solve and postprocess\nOnce you have completed the fault tolerate meshing workflow, you can solve and\npostprcess the results.\n\n## Switch to solution mode\nSwitch to the solution mode.\n\n"
      ]
    },
    {
      "cell_type": "code",
      "execution_count": null,
      "metadata": {
        "collapsed": false
      },
      "outputs": [],
      "source": [
        "solver = meshing.switch_to_solver()\n\nsolver.tui.mesh.check()"
      ]
    },
    {
      "cell_type": "markdown",
      "metadata": {},
      "source": [
        "## Set units for length\nSet the units for length.\n\n"
      ]
    },
    {
      "cell_type": "code",
      "execution_count": null,
      "metadata": {
        "collapsed": false
      },
      "outputs": [],
      "source": [
        "solver.tui.define.units(\"length\", \"mm\")"
      ]
    },
    {
      "cell_type": "markdown",
      "metadata": {},
      "source": [
        "## Select turbulence model\nSelect the kw sst turbulence model.\n\n"
      ]
    },
    {
      "cell_type": "code",
      "execution_count": null,
      "metadata": {
        "collapsed": false
      },
      "outputs": [],
      "source": [
        "solver.tui.define.models.viscous.kw_sst(\"yes\")"
      ]
    },
    {
      "cell_type": "markdown",
      "metadata": {},
      "source": [
        "## Set velocity and turbulence boundary conditions for first inlet\nSet the velocity and turbulence boundary conditions for the first inlet\n(``inlet-1``).\n\n"
      ]
    },
    {
      "cell_type": "code",
      "execution_count": null,
      "metadata": {
        "collapsed": false
      },
      "outputs": [],
      "source": [
        "solver.tui.define.boundary_conditions.set.velocity_inlet(\n    \"inlet-1\", [], \"vmag\", \"no\", 1, \"quit\"\n)"
      ]
    },
    {
      "cell_type": "markdown",
      "metadata": {},
      "source": [
        "## Set same boundary conditions for other velocity inlets\nSet the same boundary conditions for the other velocity inlets (``inlet_2``\nand ``inlet_3``).\n\n"
      ]
    },
    {
      "cell_type": "code",
      "execution_count": null,
      "metadata": {
        "collapsed": false
      },
      "outputs": [],
      "source": [
        "solver.tui.define.boundary_conditions.copy_bc(\"inlet-1\", \"inlet-2\", \"inlet-3\", ())"
      ]
    },
    {
      "cell_type": "markdown",
      "metadata": {},
      "source": [
        "## Set boundary conditions at outlet\nSet the boundary conditions at the outlet (``outlet-1``).\n\n"
      ]
    },
    {
      "cell_type": "code",
      "execution_count": null,
      "metadata": {
        "collapsed": false
      },
      "outputs": [],
      "source": [
        "solver.tui.define.boundary_conditions.set.pressure_outlet(\n    \"outlet-1\", [], \"turb-intensity\", 5, \"quit\"\n)\nsolver.tui.solve.monitors.residual.plot(\"yes\")"
      ]
    },
    {
      "cell_type": "markdown",
      "metadata": {},
      "source": [
        "## Initialize flow field\nInitialize the flow field using hybrid initialization.\n\n"
      ]
    },
    {
      "cell_type": "code",
      "execution_count": null,
      "metadata": {
        "collapsed": false
      },
      "outputs": [],
      "source": [
        "solver.tui.solve.initialize.hyb_initialization()"
      ]
    },
    {
      "cell_type": "markdown",
      "metadata": {},
      "source": [
        "## Start calculation\nStart the calculation by requesting 100 iterations.\n\n"
      ]
    },
    {
      "cell_type": "markdown",
      "metadata": {},
      "source": [
        "<img src=\"file://_static/exhaust_system_015.png\" width=\"500pt\" align=\"center\">\n\n"
      ]
    },
    {
      "cell_type": "code",
      "execution_count": null,
      "metadata": {
        "collapsed": false
      },
      "outputs": [],
      "source": [
        "solver.tui.solve.set.number_of_iterations(100)\nsolver.tui.solve.iterate()\n\n# solver.tui.report.volume_integrals.volume(\"fluid-region-1\",\"()\",\"yes\",\"volume.vrp\")"
      ]
    },
    {
      "cell_type": "markdown",
      "metadata": {},
      "source": [
        "## Create path lines\nCreate path lines highlighting the flow field.\n\n"
      ]
    },
    {
      "cell_type": "markdown",
      "metadata": {},
      "source": [
        "<img src=\"file://_static/exhaust_system_016.png\" width=\"500pt\" align=\"center\">\n\n"
      ]
    },
    {
      "cell_type": "code",
      "execution_count": null,
      "metadata": {
        "collapsed": false
      },
      "outputs": [],
      "source": [
        "solver.tui.display.objects.create(\n    \"pathlines\",\n    \"pathlines-1\",\n    \"field\",\n    \"time\",\n    \"accuracy-control\",\n    \"tolerance\",\n    \"0.001\",\n    \"skip\",\n    \"5\",\n    \"surfaces-list\",\n    \"inlet-1\",\n    \"inlet-2\",\n    \"inlet-3\",\n    \"()\",\n    \"quit\",\n)"
      ]
    },
    {
      "cell_type": "markdown",
      "metadata": {},
      "source": [
        "## Create iso-surface\nCreate an iso-surface through the manifold geometry.\n\n"
      ]
    },
    {
      "cell_type": "code",
      "execution_count": null,
      "metadata": {
        "collapsed": false
      },
      "outputs": [],
      "source": [
        "solver.tui.surface.iso_surface(\n    \"x-coordinate\",\n    \"surf-x-coordinate\",\n    \"()\",\n    \"fluid-region-1\",\n    \"()\",\n    \"380\",\n    \"()\",\n)"
      ]
    },
    {
      "cell_type": "markdown",
      "metadata": {},
      "source": [
        "## Create contours of velocity magnitude\nCreate contours of the velocity magnitude throughout the manifold\nalong with the mesh.\n\n"
      ]
    },
    {
      "cell_type": "markdown",
      "metadata": {},
      "source": [
        "<img src=\"file://_static/exhaust_system_017.png\" width=\"500pt\" align=\"center\">\n\n"
      ]
    },
    {
      "cell_type": "code",
      "execution_count": null,
      "metadata": {
        "collapsed": false
      },
      "outputs": [],
      "source": [
        "solver.tui.display.objects.create(\n    \"contour\",\n    \"contour-velocity\",\n    \"field\",\n    \"velocity-magnitude\",\n    \"surfaces-list\",\n    \"surf-x-coordinate\",\n    \"()\",\n    \"node-values?\",\n    \"no\",\n    \"range-option\",\n    \"auto-range-on\",\n    \"global-range?\",\n    \"no\",\n    \"quit\",\n    \"quit\",\n)\n\nsolver.tui.display.objects.create(\"mesh\", \"mesh-1\", \"surfaces-list\", \"*\", \"()\", \"quit\")"
      ]
    },
    {
      "cell_type": "markdown",
      "metadata": {},
      "source": [
        "## Create scene\nCreate a scene containing the mesh and the contours.\n\n"
      ]
    },
    {
      "cell_type": "markdown",
      "metadata": {},
      "source": [
        "<img src=\"file://_static/exhaust_system_018.png\" width=\"500pt\" align=\"center\">\n\n"
      ]
    },
    {
      "cell_type": "code",
      "execution_count": null,
      "metadata": {
        "collapsed": false
      },
      "outputs": [],
      "source": [
        "solver.tui.display.objects.create(\n    \"scene\",\n    \"scene-1\",\n    \"graphics-objects\",\n    \"add\",\n    \"mesh-1\",\n    \"transparency\",\n    \"90\",\n    \"quit\",\n    \"add\",\n    \"contour-velocity\",\n    \"quit\",\n    \"quit\",\n    \"quit\",\n)"
      ]
    },
    {
      "cell_type": "markdown",
      "metadata": {},
      "source": [
        "## Close Fluent\nClose Fluent.\n\n"
      ]
    },
    {
      "cell_type": "code",
      "execution_count": null,
      "metadata": {
        "collapsed": false
      },
      "outputs": [],
      "source": [
        "solver.exit()"
      ]
    }
  ],
  "metadata": {
    "kernelspec": {
      "display_name": "Python 3",
      "language": "python",
      "name": "python3"
    },
    "language_info": {
      "codemirror_mode": {
        "name": "ipython",
        "version": 3
      },
      "file_extension": ".py",
      "mimetype": "text/x-python",
      "name": "python",
      "nbconvert_exporter": "python",
      "pygments_lexer": "ipython3",
      "version": "3.9.12"
    }
  },
  "nbformat": 4,
  "nbformat_minor": 0
}